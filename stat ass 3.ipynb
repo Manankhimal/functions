{
  "nbformat": 4,
  "nbformat_minor": 0,
  "metadata": {
    "colab": {
      "provenance": []
    },
    "kernelspec": {
      "name": "python3",
      "display_name": "Python 3"
    },
    "language_info": {
      "name": "python"
    }
  },
  "cells": [
    {
      "cell_type": "code",
      "source": [
        "### **1. What is hypothesis testing in statistics?**\n",
        "Hypothesis testing is a statistical method used to make decisions about a population based on a sample. It helps determine whether there is enough evidence to reject a null hypothesis in favor of an alternative hypothesis.\n",
        "\n",
        "---\n",
        "\n",
        "### **2. What is the null hypothesis, and how does it differ from the alternative hypothesis?**\n",
        "- **Null Hypothesis (H₀):** A statement that assumes no effect or no difference in the population (e.g., \"There is no difference between the means of two groups\").\n",
        "- **Alternative Hypothesis (H₁ or Ha):** A statement that contradicts H₀ and suggests a significant effect or difference exists.\n",
        "\n",
        "Example:\n",
        "- H₀: The average height of students in a school is 5.5 feet.\n",
        "- H₁: The average height of students in a school is not 5.5 feet.\n",
        "\n",
        "---\n",
        "\n",
        "### **3. What is the significance level in hypothesis testing, and why is it important?**\n",
        "The **significance level (α)** is the probability of rejecting the null hypothesis when it is actually true (Type 1 error). It is typically set at **0.05 (5%)**, meaning there is a 5% chance of incorrectly rejecting H₀. A lower α reduces false positives but increases the chance of Type 2 errors.\n",
        "\n",
        "---\n",
        "\n",
        "### **4. What does a P-value represent in hypothesis testing?**\n",
        "The **P-value** measures the probability of obtaining test results at least as extreme as the observed data, assuming H₀ is true.\n",
        "- If **P ≤ α (e.g., 0.05)** → Reject H₀ (statistically significant).\n",
        "- If **P > α** → Fail to reject H₀ (not statistically significant).\n",
        "\n",
        "---\n",
        "\n",
        "### **5. How do you interpret the P-value in hypothesis testing?**\n",
        "- **Small P-value (≤ 0.05):** Strong evidence against H₀, leading to rejection.\n",
        "- **Large P-value (> 0.05):** Weak evidence against H₀, meaning we fail to reject it.\n",
        "\n",
        "Example: If P = 0.02, we reject H₀ at a 5% significance level.\n",
        "\n",
        "---\n",
        "\n",
        "### **6. What are Type 1 and Type 2 errors in hypothesis testing?**\n",
        "- **Type 1 Error (False Positive):** Rejecting a true null hypothesis (α risk).\n",
        "- **Type 2 Error (False Negative):** Failing to reject a false null hypothesis (β risk).\n",
        "\n",
        "Example:\n",
        "- Type 1: A COVID test wrongly detects a virus in a healthy person.\n",
        "- Type 2: A COVID test fails to detect the virus in an infected person.\n",
        "\n",
        "---\n",
        "\n",
        "### **7. Difference between a one-tailed and a two-tailed test in hypothesis testing?**\n",
        "- **One-tailed test:** Tests if a parameter is **greater OR less** than a value (directional).\n",
        "- **Two-tailed test:** Tests if a parameter is **different** from a value (non-directional).\n",
        "\n",
        "Example:\n",
        "- One-tailed: “Is the new drug **better** than the current one?”\n",
        "- Two-tailed: “Is the new drug **different** from the current one?”\n",
        "\n",
        "---\n",
        "\n",
        "### **8. What is the Z-test, and when is it used?**\n",
        "A Z-test is used when:\n",
        "1. The **sample size is large (n ≥ 30)**.\n",
        "2. The **population variance is known**.\n",
        "3. The **data follows a normal distribution**.\n",
        "\n",
        "Example: Comparing the average salary of employees in two companies.\n",
        "\n",
        "---\n",
        "\n",
        "### **9. How do you calculate the Z-score, and what does it represent?**\n",
        "**Formula:**\n",
        "\\[\n",
        "Z = \\frac{{\\bar{X} - \\mu}}{{\\sigma / \\sqrt{n}}}\n",
        "\\]\n",
        "Where:\n",
        "- \\( \\bar{X} \\) = sample mean\n",
        "- \\( \\mu \\) = population mean\n",
        "- \\( \\sigma \\) = population standard deviation\n",
        "- \\( n \\) = sample size\n",
        "\n",
        "The **Z-score** tells us how many standard deviations a data point is from the mean.\n",
        "\n",
        "---\n",
        "\n",
        "### **10. What is the T-distribution, and when should it be used?**\n",
        "The **T-distribution** is used instead of the normal distribution when:\n",
        "- The **sample size is small (n < 30)**.\n",
        "- The **population variance is unknown**.\n",
        "\n",
        "---\n",
        "\n",
        "### **11. Difference between a Z-test and a T-test?**\n",
        "| Feature  | Z-test  | T-test  |\n",
        "|----------|--------|---------|\n",
        "| Sample Size | Large (n ≥ 30) | Small (n < 30) |\n",
        "| Population Variance | Known | Unknown |\n",
        "| Distribution Used | Normal | T-distribution |\n",
        "\n",
        "---\n",
        "\n",
        "### **12. What is the T-test, and how is it used?**\n",
        "A **T-test** compares sample means to determine if they are significantly different.\n",
        "- **One-sample T-test:** Compares a sample mean to a known population mean.\n",
        "- **Two-sample T-test:** Compares means of two independent samples.\n",
        "- **Paired T-test:** Compares means before and after an intervention.\n",
        "\n",
        "---\n",
        "\n",
        "### **13. Relationship between Z-test and T-test in hypothesis testing?**\n",
        "- Both test means, but Z-test is for **large samples** with **known variance**, while T-test is for **small samples** with **unknown variance**.\n",
        "\n",
        "---\n",
        "\n",
        "### **14. What is a confidence interval, and how is it used?**\n",
        "A **confidence interval (CI)** gives a range of values where the true population parameter is likely to lie.\n",
        "\n",
        "Example:\n",
        "If a 95% CI for mean height is (5.5, 6.2), we are **95% confident** that the true mean height is between 5.5 and 6.2 feet.\n",
        "\n",
        "---\n",
        "\n",
        "### **15. What is the margin of error, and how does it affect the confidence interval?**\n",
        "The **margin of error (ME)** determines the width of a confidence interval.\n",
        "\n",
        "\\[\n",
        "ME = t^* \\times \\frac{s}{\\sqrt{n}}\n",
        "\\]\n",
        "\n",
        "- **Larger ME** → Wider CI → Less precise estimate.\n",
        "- **Smaller ME** → Narrower CI → More precise estimate.\n",
        "\n",
        "---\n",
        "\n",
        "### **16. How is Bayes' Theorem used in statistics, and what is its significance?**\n",
        "**Bayes’ Theorem** updates probabilities based on new evidence. It is used in spam detection, medical diagnosis, and AI.\n",
        "\n",
        "\\[\n",
        "P(A|B) = \\frac{P(B|A) P(A)}{P(B)}\n",
        "\\]\n",
        "\n",
        "Example: If a medical test is **90% accurate**, Bayes’ Theorem helps determine the real probability of being sick given a positive test.\n",
        "\n",
        "---\n",
        "\n",
        "### **17. What is the Chi-square distribution, and when is it used?**\n",
        "The **Chi-square distribution** is used for:\n",
        "1. **Testing independence** between categorical variables.\n",
        "2. **Goodness-of-fit tests** to check if a sample fits an expected distribution.\n",
        "\n",
        "---\n",
        "\n",
        "### **18. What is the Chi-square goodness-of-fit test, and how is it applied?**\n",
        "It checks if observed data fits an expected distribution.\n",
        "\n",
        "\\[\n",
        "\\chi^2 = \\sum \\frac{(O - E)^2}{E}\n",
        "\\]\n",
        "\n",
        "Where:\n",
        "- \\( O \\) = Observed values\n",
        "- \\( E \\) = Expected values\n",
        "\n",
        "Example: Checking if dice rolls follow a fair distribution.\n",
        "\n",
        "---\n",
        "\n",
        "### **19. What is the F-distribution, and when is it used?**\n",
        "The **F-distribution** is used in variance tests like ANOVA and F-tests. It is skewed and only takes positive values.\n",
        "\n",
        "---\n",
        "\n",
        "### **20. What is an ANOVA test, and what are its assumptions?**\n",
        "**ANOVA (Analysis of Variance)** compares means across multiple groups.\n",
        "**Assumptions:**\n",
        "- Normality\n",
        "- Independence\n",
        "- Equal variance\n",
        "\n",
        "---\n",
        "\n",
        "### **21. What are the different types of ANOVA tests?**\n",
        "1. **One-way ANOVA:** Compares means across **one** factor.\n",
        "2. **Two-way ANOVA:** Compares means across **two** factors.\n",
        "3. **Repeated Measures ANOVA:** Used when the same subjects are measured multiple times.\n",
        "\n",
        "---\n",
        "\n",
        "### **22. What is the F-test, and how does it relate to hypothesis testing?**\n",
        "The **F-test** compares variances between groups and is used in ANOVA. It checks whether variances are equal across populations.\n",
        "\n"
      ],
      "metadata": {
        "id": "-7C_0p1-jSor"
      },
      "execution_count": null,
      "outputs": []
    },
    {
      "cell_type": "markdown",
      "source": [],
      "metadata": {
        "id": "EWR_k0KGqFbu"
      }
    },
    {
      "cell_type": "code",
      "source": [
        "import numpy as np\n",
        "from scipy import stats\n",
        "\n",
        "# Sample data\n",
        "sample = np.array([100, 102, 98, 101, 99, 97, 103, 100, 104, 98])\n",
        "population_mean = 100\n",
        "population_std = 3  # Assumed known standard deviation\n",
        "n = len(sample)\n",
        "\n",
        "# Z-test calculation\n",
        "sample_mean = np.mean(sample)\n",
        "z_score = (sample_mean - population_mean) / (population_std / np.sqrt(n))\n",
        "p_value = 2 * (1 - stats.norm.cdf(abs(z_score)))  # Two-tailed test\n",
        "\n",
        "print(f\"Z-score: {z_score:.3f}, P-value: {p_value:.3f}\")\n",
        "\n",
        "# Interpretation\n",
        "if p_value < 0.05:\n",
        "    print(\"Reject the null hypothesis: The sample mean is significantly different from the population mean.\")\n",
        "else:\n",
        "    print(\"Fail to reject the null hypothesis: No significant difference found.\")\n"
      ],
      "metadata": {
        "colab": {
          "base_uri": "https://localhost:8080/",
          "height": 0
        },
        "id": "lAaV-0HzqGYq",
        "outputId": "1910ecf2-f354-4a9f-b64b-e517be4dcc9c"
      },
      "execution_count": 1,
      "outputs": [
        {
          "output_type": "stream",
          "name": "stdout",
          "text": [
            "Z-score: 0.211, P-value: 0.833\n",
            "Fail to reject the null hypothesis: No significant difference found.\n"
          ]
        }
      ]
    },
    {
      "cell_type": "code",
      "source": [
        "# Generate random sample\n",
        "sample = np.random.normal(loc=100, scale=3, size=30)\n",
        "\n",
        "# Perform a one-sample t-test\n",
        "t_stat, p_value = stats.ttest_1samp(sample, 100)\n",
        "\n",
        "print(f\"T-statistic: {t_stat:.3f}, P-value: {p_value:.3f}\")\n"
      ],
      "metadata": {
        "colab": {
          "base_uri": "https://localhost:8080/",
          "height": 0
        },
        "id": "M2w-3mqWqHfS",
        "outputId": "7d1da575-d32c-45c7-9c64-156182674e5d"
      },
      "execution_count": 2,
      "outputs": [
        {
          "output_type": "stream",
          "name": "stdout",
          "text": [
            "T-statistic: -0.768, P-value: 0.449\n"
          ]
        }
      ]
    },
    {
      "cell_type": "code",
      "source": [
        "# Sample data\n",
        "sample = np.array([100, 102, 98, 101, 99, 97, 103, 100, 104, 98])\n",
        "population_mean = 100\n",
        "population_std = 3  # Assumed known standard deviation\n",
        "n = len(sample)\n",
        "\n",
        "# Z-test calculation\n",
        "sample_mean = np.mean(sample)\n",
        "z_score = (sample_mean - population_mean) / (population_std / np.sqrt(n))\n",
        "p_value = 2 * (1 - stats.norm.cdf(abs(z_score)))  # Two-tailed test\n",
        "\n",
        "print(f\"Z-score: {z_score:.3f}, P-value: {p_value:.3f}\")\n",
        "\n",
        "# Interpretation\n",
        "if p_value < 0.05:\n",
        "    print(\"Reject the null hypothesis: The sample mean is significantly different from the population mean.\")\n",
        "else:\n",
        "    print(\"Fail to reject the null hypothesis: No significant difference found.\")\n"
      ],
      "metadata": {
        "colab": {
          "base_uri": "https://localhost:8080/",
          "height": 0
        },
        "id": "XZxbmLCqqL6D",
        "outputId": "168338e9-9afb-4c08-dc52-aa92a0cb26ac"
      },
      "execution_count": 3,
      "outputs": [
        {
          "output_type": "stream",
          "name": "stdout",
          "text": [
            "Z-score: 0.211, P-value: 0.833\n",
            "Fail to reject the null hypothesis: No significant difference found.\n"
          ]
        }
      ]
    },
    {
      "cell_type": "code",
      "source": [
        "import matplotlib.pyplot as plt\n",
        "\n",
        "x = np.linspace(-4, 4, 1000)\n",
        "y = stats.norm.pdf(x, 0, 1)\n",
        "\n",
        "plt.plot(x, y, label=\"Standard Normal Distribution\")\n",
        "\n",
        "# Critical regions for alpha = 0.05 (two-tailed)\n",
        "z_critical = stats.norm.ppf(0.975)  # 1.96 for two-tailed\n",
        "plt.axvline(-z_critical, color='red', linestyle='dashed', label=\"Rejection Region\")\n",
        "plt.axvline(z_critical, color='red', linestyle='dashed')\n",
        "\n",
        "# Z-score marker\n",
        "plt.axvline(z_score, color='blue', linestyle='dashed', label=\"Computed Z-score\")\n",
        "\n",
        "plt.title(\"Z-test Decision Regions\")\n",
        "plt.legend()\n",
        "plt.show()\n"
      ],
      "metadata": {
        "colab": {
          "base_uri": "https://localhost:8080/",
          "height": 452
        },
        "id": "UxnZ5MZxqSmL",
        "outputId": "c288dffa-c1f0-49ea-9deb-aeeb950557ff"
      },
      "execution_count": 4,
      "outputs": [
        {
          "output_type": "display_data",
          "data": {
            "text/plain": [
              "<Figure size 640x480 with 1 Axes>"
            ],
            "image/png": "[encoded data removed]"
          },
          "metadata": {}
        }
      ]
    },
    {
      "cell_type": "code",
      "source": [
        "import numpy as np\n",
        "import matplotlib.pyplot as plt\n",
        "from scipy.stats import norm\n",
        "\n",
        "# Define parameters\n",
        "x = np.linspace(-4, 4, 1000)\n",
        "alpha = 0.05  # Significance level\n",
        "z_critical = norm.ppf(1 - alpha)\n",
        "\n",
        "# Plot normal distribution\n",
        "plt.plot(x, norm.pdf(x), label=\"Null Distribution\")\n",
        "\n",
        "# Type 1 error (Rejection region under H0)\n",
        "plt.fill_between(x, norm.pdf(x), where=(x >= z_critical), color='red', alpha=0.5, label=\"Type 1 Error\")\n",
        "\n",
        "# Type 2 error (Acceptance region under H1)\n",
        "plt.fill_between(x, norm.pdf(x, loc=2), where=(x < z_critical), color='blue', alpha=0.5, label=\"Type 2 Error\")\n",
        "\n",
        "plt.legend()\n",
        "plt.title(\"Type 1 and Type 2 Errors\")\n",
        "plt.show()\n"
      ],
      "metadata": {
        "colab": {
          "base_uri": "https://localhost:8080/",
          "height": 452
        },
        "id": "vK-BZ9CcqVjH",
        "outputId": "d690a639-e4ec-4632-dfa2-b6f941772eaf"
      },
      "execution_count": 5,
      "outputs": [
        {
          "output_type": "display_data",
          "data": {
            "text/plain": [
              "<Figure size 640x480 with 1 Axes>"
            ],
            "image/png": "[encoded data removed]"
          },
          "metadata": {}
        }
      ]
    },
    {
      "cell_type": "code",
      "source": [
        "import scipy.stats as stats\n",
        "\n",
        "# Generate random samples\n",
        "np.random.seed(42)\n",
        "group1 = np.random.normal(100, 15, 30)\n",
        "group2 = np.random.normal(110, 15, 30)\n",
        "\n",
        "# Perform independent T-test\n",
        "t_stat, p_value = stats.ttest_ind(group1, group2)\n",
        "\n",
        "print(f\"T-statistic: {t_stat:.3f}, P-value: {p_value:.3f}\")\n"
      ],
      "metadata": {
        "colab": {
          "base_uri": "https://localhost:8080/",
          "height": 0
        },
        "id": "rgmV9l9fqlO5",
        "outputId": "78ad9e64-7993-4d8e-f46e-88829fa2eaa1"
      },
      "execution_count": 6,
      "outputs": [
        {
          "output_type": "stream",
          "name": "stdout",
          "text": [
            "T-statistic: -3.103, P-value: 0.003\n"
          ]
        }
      ]
    },
    {
      "cell_type": "code",
      "source": [
        "# Generate paired data\n",
        "before = np.random.normal(100, 10, 30)\n",
        "after = before + np.random.normal(2, 5, 30)  # Slight increase\n",
        "\n",
        "# Perform paired t-test\n",
        "t_stat, p_value = stats.ttest_rel(before, after)\n",
        "\n",
        "print(f\"T-statistic: {t_stat:.3f}, P-value: {p_value:.3f}\")\n"
      ],
      "metadata": {
        "colab": {
          "base_uri": "https://localhost:8080/",
          "height": 0
        },
        "id": "MvH7T42bqoAo",
        "outputId": "2a75268f-f0e9-43e7-fa3f-7e45e55815ac"
      },
      "execution_count": 7,
      "outputs": [
        {
          "output_type": "stream",
          "name": "stdout",
          "text": [
            "T-statistic: -2.289, P-value: 0.030\n"
          ]
        }
      ]
    },
    {
      "cell_type": "code",
      "source": [
        "sample = np.random.normal(100, 10, 15)  # Small sample size\n",
        "\n",
        "# T-test (used when variance is unknown)\n",
        "t_stat, p_t = stats.ttest_1samp(sample, 100)\n",
        "\n",
        "# Z-test approximation (for large samples, but applied here for comparison)\n",
        "z_stat = (np.mean(sample) - 100) / (np.std(sample, ddof=1) / np.sqrt(len(sample)))\n",
        "p_z = 2 * (1 - stats.norm.cdf(abs(z_stat)))\n",
        "\n",
        "print(f\"T-test: T={t_stat:.3f}, P={p_t:.3f}\")\n",
        "print(f\"Z-test: Z={z_stat:.3f}, P={p_z:.3f}\")\n"
      ],
      "metadata": {
        "colab": {
          "base_uri": "https://localhost:8080/",
          "height": 0
        },
        "id": "8LuGT0dqqqH4",
        "outputId": "e481c52d-bc48-4098-83a6-8215daedfba4"
      },
      "execution_count": 8,
      "outputs": [
        {
          "output_type": "stream",
          "name": "stdout",
          "text": [
            "T-test: T=-0.547, P=0.593\n",
            "Z-test: Z=-0.547, P=0.584\n"
          ]
        }
      ]
    },
    {
      "cell_type": "code",
      "source": [
        "import scipy.stats as stats\n",
        "\n",
        "# Confidence Interval function\n",
        "def confidence_interval(data, confidence=0.95):\n",
        "    mean = np.mean(data)\n",
        "    std_err = stats.sem(data)\n",
        "    margin = std_err * stats.t.ppf((1 + confidence) / 2, len(data) - 1)\n",
        "    return mean - margin, mean + margin\n",
        "\n",
        "sample = np.random.normal(100, 10, 30)\n",
        "print(\"Confidence Interval:\", confidence_interval(sample))\n"
      ],
      "metadata": {
        "colab": {
          "base_uri": "https://localhost:8080/",
          "height": 0
        },
        "id": "kLNLvWUFqsCl",
        "outputId": "90ea19d1-ed6a-44de-a887-8ce9169cc01e"
      },
      "execution_count": 9,
      "outputs": [
        {
          "output_type": "stream",
          "name": "stdout",
          "text": [
            "Confidence Interval: (np.float64(97.21490836778435), np.float64(104.17755253140433))\n"
          ]
        }
      ]
    },
    {
      "cell_type": "code",
      "source": [
        "def margin_of_error(sample, confidence=0.95):\n",
        "    std_err = stats.sem(sample)\n",
        "    return std_err * stats.t.ppf((1 + confidence) / 2, len(sample) - 1)\n",
        "\n",
        "print(\"Margin of Error:\", margin_of_error(sample))\n"
      ],
      "metadata": {
        "colab": {
          "base_uri": "https://localhost:8080/",
          "height": 0
        },
        "id": "oJONHAhBqt_T",
        "outputId": "35b07e64-5cc3-40e7-f832-f3c78c8b8085"
      },
      "execution_count": 10,
      "outputs": [
        {
          "output_type": "stream",
          "name": "stdout",
          "text": [
            "Margin of Error: 3.4813220818099877\n"
          ]
        }
      ]
    },
    {
      "cell_type": "code",
      "source": [
        "def bayes_theorem(prior_A, likelihood_B_given_A, prior_B):\n",
        "    return (likelihood_B_given_A * prior_A) / prior_B\n",
        "\n",
        "# Example values\n",
        "P_A = 0.01  # Prior probability\n",
        "P_B_given_A = 0.8  # Likelihood\n",
        "P_B = 0.05  # Total probability\n",
        "\n",
        "print(\"Posterior Probability:\", bayes_theorem(P_A, P_B_given_A, P_B))\n"
      ],
      "metadata": {
        "colab": {
          "base_uri": "https://localhost:8080/",
          "height": 0
        },
        "id": "aDmkiTyVqx1I",
        "outputId": "015dacfb-c421-4ae8-e409-c5474f5cf605"
      },
      "execution_count": 11,
      "outputs": [
        {
          "output_type": "stream",
          "name": "stdout",
          "text": [
            "Posterior Probability: 0.16\n"
          ]
        }
      ]
    },
    {
      "cell_type": "code",
      "source": [
        "import pandas as pd\n",
        "\n",
        "# Create a contingency table\n",
        "observed = np.array([[30, 10], [15, 25]])\n",
        "chi2, p, _, _ = stats.chi2_contingency(observed)\n",
        "\n",
        "print(f\"Chi-Square Statistic: {chi2:.3f}, P-value: {p:.3f}\")\n",
        "\n"
      ],
      "metadata": {
        "colab": {
          "base_uri": "https://localhost:8080/",
          "height": 0
        },
        "id": "VqGnd1erq0oQ",
        "outputId": "f6a29479-e9cd-4169-c41d-13ce399e4357"
      },
      "execution_count": 12,
      "outputs": [
        {
          "output_type": "stream",
          "name": "stdout",
          "text": [
            "Chi-Square Statistic: 9.956, P-value: 0.002\n"
          ]
        }
      ]
    },
    {
      "source": [
        "chi2, p, dof, expected = stats.chi2_contingency(observed) # Unpack all 4 return values from chi2_contingency\n",
        "print(\"Expected Frequencies:\\n\", expected)"
      ],
      "cell_type": "code",
      "metadata": {
        "colab": {
          "base_uri": "https://localhost:8080/",
          "height": 0
        },
        "id": "gKfWTlu6q-T2",
        "outputId": "34dd37a4-a47f-4e91-8742-b3e42f940599"
      },
      "execution_count": 14,
      "outputs": [
        {
          "output_type": "stream",
          "name": "stdout",
          "text": [
            "Expected Frequencies:\n",
            " [[22.5 17.5]\n",
            " [22.5 17.5]]\n"
          ]
        }
      ]
    },
    {
      "cell_type": "code",
      "source": [
        "observed = np.array([50, 30, 20])\n",
        "expected = np.array([40, 40, 20])\n",
        "\n",
        "chi2, p = stats.chisquare(observed, expected)\n",
        "\n",
        "print(f\"Chi-Square Statistic: {chi2:.3f}, P-value: {p:.3f}\")\n"
      ],
      "metadata": {
        "colab": {
          "base_uri": "https://localhost:8080/",
          "height": 0
        },
        "id": "ErLkeg3Wq0iL",
        "outputId": "659c4fbc-e199-4c15-8a7e-1d57bd7dd3ca"
      },
      "execution_count": 15,
      "outputs": [
        {
          "output_type": "stream",
          "name": "stdout",
          "text": [
            "Chi-Square Statistic: 5.000, P-value: 0.082\n"
          ]
        }
      ]
    },
    {
      "cell_type": "code",
      "source": [
        "samples = np.random.chisquare(df=4, size=1000)\n",
        "plt.hist(samples, bins=30, alpha=0.7)\n",
        "plt.title(\"Chi-Square Distribution\")\n",
        "plt.show()\n"
      ],
      "metadata": {
        "colab": {
          "base_uri": "https://localhost:8080/",
          "height": 452
        },
        "id": "oE5D31mvq0f_",
        "outputId": "1b2cca78-9555-4799-8d89-3d03d83cb8f8"
      },
      "execution_count": 16,
      "outputs": [
        {
          "output_type": "display_data",
          "data": {
            "text/plain": [
              "<Figure size 640x480 with 1 Axes>"
            ],
            "image/png": "[encoded data removed]"
          },
          "metadata": {}
        }
      ]
    },
    {
      "cell_type": "code",
      "source": [
        "group1 = np.random.normal(100, 10, 30)\n",
        "group2 = np.random.normal(100, 15, 30)\n",
        "\n",
        "f_stat = np.var(group1, ddof=1) / np.var(group2, ddof=1)\n",
        "p_value = 1 - stats.f.cdf(f_stat, len(group1) - 1, len(group2) - 1)\n",
        "\n",
        "print(f\"F-statistic: {f_stat:.3f}, P-value: {p_value:.3f}\")\n"
      ],
      "metadata": {
        "colab": {
          "base_uri": "https://localhost:8080/",
          "height": 0
        },
        "id": "MxwfqO5zq0d8",
        "outputId": "8ab9fdb3-9227-4bc7-9a1d-58957c001b78"
      },
      "execution_count": 17,
      "outputs": [
        {
          "output_type": "stream",
          "name": "stdout",
          "text": [
            "F-statistic: 0.883, P-value: 0.630\n"
          ]
        }
      ]
    },
    {
      "cell_type": "code",
      "source": [
        "import seaborn as sns\n",
        "\n",
        "# Generate data\n",
        "group1 = np.random.normal(100, 10, 30)\n",
        "group2 = np.random.normal(110, 10, 30)\n",
        "group3 = np.random.normal(120, 10, 30)\n",
        "\n",
        "# Perform one-way ANOVA\n",
        "f_stat, p_value = stats.f_oneway(group1, group2, group3)\n",
        "\n",
        "print(f\"ANOVA F-statistic: {f_stat:.3f}, P-value: {p_value:.3f}\")\n"
      ],
      "metadata": {
        "colab": {
          "base_uri": "https://localhost:8080/",
          "height": 0
        },
        "id": "I5tvRHgZq0bb",
        "outputId": "1be33d47-00b6-4ff9-b562-2a9001a1461e"
      },
      "execution_count": 18,
      "outputs": [
        {
          "output_type": "stream",
          "name": "stdout",
          "text": [
            "ANOVA F-statistic: 38.644, P-value: 0.000\n"
          ]
        }
      ]
    },
    {
      "cell_type": "code",
      "source": [
        "sample = np.random.normal(100, 15, 30)\n",
        "print(stats.ttest_1samp(sample, 100))\n"
      ],
      "metadata": {
        "colab": {
          "base_uri": "https://localhost:8080/",
          "height": 0
        },
        "id": "GEhTqR9Mq0ZC",
        "outputId": "6df919ee-7b4b-4002-b3f3-4b3fecea050c"
      },
      "execution_count": 19,
      "outputs": [
        {
          "output_type": "stream",
          "name": "stdout",
          "text": [
            "TtestResult(statistic=np.float64(0.28335105146267786), pvalue=np.float64(0.7789207406140313), df=np.int64(29))\n"
          ]
        }
      ]
    },
    {
      "cell_type": "code",
      "source": [
        "# Population variance test (Chi-square)\n",
        "sample_variance = np.var(sample, ddof=1)\n",
        "chi2_stat = (len(sample) - 1) * sample_variance / 15**2\n",
        "p_value = stats.chi2.sf(chi2_stat, len(sample) - 1)\n",
        "\n",
        "print(f\"Chi-Square Test for Variance: {chi2_stat:.3f}, P-value: {p_value:.3f}\")\n",
        "\n"
      ],
      "metadata": {
        "colab": {
          "base_uri": "https://localhost:8080/",
          "height": 0
        },
        "id": "Nfcb7bBvq0Wh",
        "outputId": "0069cd4c-a38a-41e4-9733-46862c49c040"
      },
      "execution_count": 20,
      "outputs": [
        {
          "output_type": "stream",
          "name": "stdout",
          "text": [
            "Chi-Square Test for Variance: 38.935, P-value: 0.103\n"
          ]
        }
      ]
    },
    {
      "cell_type": "code",
      "source": [],
      "metadata": {
        "id": "YJjWRqawq0UB"
      },
      "execution_count": null,
      "outputs": []
    },
    {
      "cell_type": "code",
      "source": [],
      "metadata": {
        "id": "C5OHqPGPq0Rv"
      },
      "execution_count": null,
      "outputs": []
    },
    {
      "cell_type": "code",
      "source": [],
      "metadata": {
        "id": "KMljItd2q0PG"
      },
      "execution_count": null,
      "outputs": []
    },
    {
      "cell_type": "code",
      "source": [],
      "metadata": {
        "id": "l-VDRJP1qzt4"
      },
      "execution_count": null,
      "outputs": []
    }
  ]
}