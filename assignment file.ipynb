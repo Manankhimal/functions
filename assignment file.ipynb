{
  "nbformat": 4,
  "nbformat_minor": 0,
  "metadata": {
    "colab": {
      "provenance": []
    },
    "kernelspec": {
      "name": "python3",
      "display_name": "Python 3"
    },
    "language_info": {
      "name": "python"
    }
  },
  "cells": [
    {
      "cell_type": "code",
      "execution_count": null,
      "metadata": {
        "id": "373YvdYbTIW9"
      },
      "outputs": [],
      "source": []
    },
    {
      "cell_type": "markdown",
      "source": [
        "1. **Difference between interpreted and compiled languages:**  \n",
        "   - Interpreted languages execute code line by line (e.g., Python), while compiled languages convert code into machine code before execution (e.g., C, C++).\n",
        "\n",
        "2. **Exception handling in Python:**  \n",
        "   - It is a mechanism to handle runtime errors using `try`, `except`, `finally`, and `else` blocks to prevent crashes.\n",
        "\n",
        "3. **Purpose of the `finally` block in exception handling:**  \n",
        "   - It ensures that cleanup code is executed regardless of whether an exception occurs or not.\n",
        "\n",
        "4. **Logging in Python:**  \n",
        "   - It is a way to track events during the execution of a program using the `logging` module to record messages.\n",
        "\n",
        "5. **Significance of the `__del__` method in Python:**  \n",
        "   - It is a destructor method that gets called when an object is deleted or goes out of scope.\n",
        "\n",
        "6. **Difference between `import` and `from ... import` in Python:**  \n",
        "   - `import` imports the entire module, while `from ... import` imports specific functions or classes from a module.\n",
        "\n",
        "7. **Handling multiple exceptions in Python:**  \n",
        "   - Use multiple `except` blocks or a single `except` block with a tuple of exception types.\n",
        "\n",
        "8. **Purpose of the `with` statement in file handling:**  \n",
        "   - It ensures that a file is properly closed after operations, even if an exception occurs.\n",
        "\n",
        "9. **Difference between multithreading and multiprocessing:**  \n",
        "   - Multithreading shares memory within a process, while multiprocessing creates separate processes with their own memory.\n",
        "\n",
        "10. **Advantages of using logging in a program:**  \n",
        "    - Provides debugging information, tracks program execution, and helps in monitoring and error reporting.\n",
        "\n",
        "11. **Memory management in Python:**  \n",
        "    - Python uses automatic memory management with garbage collection and reference counting.\n",
        "\n",
        "12. **Basic steps in exception handling:**  \n",
        "    - Use `try` block to enclose risky code, `except` to catch exceptions, `else` to execute if no exception occurs, and `finally` for cleanup.\n",
        "\n",
        "13. **Importance of memory management in Python:**  \n",
        "    - Efficient use of memory prevents memory leaks and ensures optimal application performance.\n",
        "\n",
        "14. **Role of `try` and `except` in exception handling:**  \n",
        "    - `try` contains the code that might raise an exception, and `except` handles the exception.\n",
        "\n",
        "15. **How Python’s garbage collection system works:**  \n",
        "    - It uses reference counting and a cyclic garbage collector to reclaim unused memory.\n",
        "\n",
        "16. **Purpose of the `else` block in exception handling:**  \n",
        "    - It executes code only if no exception is raised in the `try` block.\n",
        "\n",
        "17. **Common logging levels in Python:**  \n",
        "    - DEBUG, INFO, WARNING, ERROR, CRITICAL.\n",
        "\n",
        "18. **Difference between `os.fork()` and multiprocessing:**  \n",
        "    - `os.fork()` creates a child process at the OS level, while multiprocessing creates separate process objects in Python.\n",
        "\n",
        "19. **Importance of closing a file in Python:**  \n",
        "    - Ensures data integrity and frees system resources.\n",
        "\n",
        "20. **Difference between `file.read()` and `file.readline()`:**  \n",
        "    - `read()` reads the entire file, while `readline()` reads one line at a time.\n",
        "\n",
        "21. **Use of the logging module in Python:**  \n",
        "    - It records messages and logs them to files or consoles for debugging and monitoring.\n",
        "\n",
        "22. **Use of the `os` module in file handling:**  \n",
        "    - Provides functions to interact with the operating system, such as reading file paths, removing files, and directory management.\n",
        "\n",
        "23. **Challenges of memory management in Python:**  \n",
        "    - Circular references, memory leaks, and inefficient object creation.\n",
        "\n",
        "24. **How to raise an exception manually in Python:**  \n",
        "    - Use the `raise` keyword, e.g., `raise ValueError(\"Invalid input\")`.\n",
        "\n",
        "25. **Importance of using multithreading in certain applications:**  \n",
        "    - Helps in I/O-bound tasks, improves performance by running tasks concurrently, and utilizes CPU efficiently.\n",
        "\n"
      ],
      "metadata": {
        "id": "5qrRhdu_TqO-"
      }
    },
    {
      "cell_type": "markdown",
      "source": [
        "Pratical Question"
      ],
      "metadata": {
        "id": "7WNw0m7hUPf5"
      }
    },
    {
      "cell_type": "code",
      "source": [
        "# 1. Open a file for writing and write a string to it\n",
        "with open('output.txt', 'w') as f:\n",
        "    f.write(\"Hello, this is a test file.\")\n"
      ],
      "metadata": {
        "id": "wVUnRXKdUHFi"
      },
      "execution_count": 4,
      "outputs": []
    },
    {
      "cell_type": "code",
      "source": [
        "# 2. Read the contents of a file and print each line\n",
        "with open('output.txt', 'r') as f:\n",
        "    for line in f:\n",
        "        print(line.strip())"
      ],
      "metadata": {
        "colab": {
          "base_uri": "https://localhost:8080/"
        },
        "id": "xdOkPlbUUJzO",
        "outputId": "bac4f3e1-6a0a-4040-a240-a6c790dae092"
      },
      "execution_count": 2,
      "outputs": [
        {
          "output_type": "stream",
          "name": "stdout",
          "text": [
            "Hello, this is a test file.\n"
          ]
        }
      ]
    },
    {
      "cell_type": "code",
      "source": [
        "# 3. Handle the case where the file doesn't exist\n",
        "try:\n",
        "    with open('nonexistent.txt', 'r') as f:\n",
        "        content = f.read()\n",
        "except FileNotFoundError:\n",
        "    print(\"The file does not exist.\")\n"
      ],
      "metadata": {
        "colab": {
          "base_uri": "https://localhost:8080/"
        },
        "id": "VIjM3fFOUN2o",
        "outputId": "e12e444b-74f5-41ef-adad-8e7248ce0f5c"
      },
      "execution_count": 5,
      "outputs": [
        {
          "output_type": "stream",
          "name": "stdout",
          "text": [
            "The file does not exist.\n"
          ]
        }
      ]
    },
    {
      "cell_type": "code",
      "source": [
        "# 4. Copy content from one file to another\n",
        "with open('output.txt', 'r') as source, open('copy.txt', 'w') as dest:\n",
        "    dest.write(source.read())\n"
      ],
      "metadata": {
        "id": "H4BCJgueUaVz"
      },
      "execution_count": 6,
      "outputs": []
    },
    {
      "cell_type": "code",
      "source": [
        "# 5. Catch and handle division by zero error\n",
        "try:\n",
        "    result = 10 / 0\n",
        "except ZeroDivisionError:\n",
        "    print(\"Cannot divide by zero.\")\n"
      ],
      "metadata": {
        "colab": {
          "base_uri": "https://localhost:8080/"
        },
        "id": "DJJY50EyUeT-",
        "outputId": "3798b6ca-8eef-42db-829c-79848c8d334e"
      },
      "execution_count": 7,
      "outputs": [
        {
          "output_type": "stream",
          "name": "stdout",
          "text": [
            "Cannot divide by zero.\n"
          ]
        }
      ]
    },
    {
      "source": [
        "# 6. Log an error message when a division by zero exception occurs\n",
        "import logging # Import the logging module\n",
        "logging.basicConfig(filename='error.log', level=logging.ERROR)\n",
        "try:\n",
        "    result = 10 / 0\n",
        "except ZeroDivisionError:\n",
        "    logging.error(\"Attempted to divide by zero.\")"
      ],
      "cell_type": "code",
      "metadata": {
        "colab": {
          "base_uri": "https://localhost:8080/"
        },
        "id": "wmdkf5CaUzjG",
        "outputId": "e67f0da6-c35d-4587-9da8-3f5e825f0eaa"
      },
      "execution_count": 9,
      "outputs": [
        {
          "output_type": "stream",
          "name": "stderr",
          "text": [
            "ERROR:root:Attempted to divide by zero.\n"
          ]
        }
      ]
    },
    {
      "cell_type": "code",
      "source": [
        "# 7. Logging at different levels\n",
        "logging.basicConfig(level=logging.DEBUG)\n",
        "logging.info(\"This is an INFO message.\")\n",
        "logging.error(\"This is an ERROR message.\")\n",
        "logging.warning(\"This is a WARNING message.\")\n"
      ],
      "metadata": {
        "colab": {
          "base_uri": "https://localhost:8080/"
        },
        "id": "TyPSBnO_Umat",
        "outputId": "02e5d21a-44a3-403d-f9da-2c385ef36d46"
      },
      "execution_count": 10,
      "outputs": [
        {
          "output_type": "stream",
          "name": "stderr",
          "text": [
            "ERROR:root:This is an ERROR message.\n",
            "WARNING:root:This is a WARNING message.\n"
          ]
        }
      ]
    },
    {
      "cell_type": "code",
      "source": [
        "# 8. Handle file opening error using exception handling\n",
        "try:\n",
        "    with open('nonexistent.txt', 'r') as f:\n",
        "        content = f.read()\n",
        "except IOError:\n",
        "    print(\"Error opening the file.\")"
      ],
      "metadata": {
        "colab": {
          "base_uri": "https://localhost:8080/"
        },
        "id": "wK__EdtyU7-v",
        "outputId": "4e2aff10-24b3-409e-f34d-00c98e09d2ea"
      },
      "execution_count": 11,
      "outputs": [
        {
          "output_type": "stream",
          "name": "stdout",
          "text": [
            "Error opening the file.\n"
          ]
        }
      ]
    },
    {
      "cell_type": "code",
      "source": [
        "# 9. Read a file line by line into a list\n",
        "with open('output.txt', 'r') as f:\n",
        "    lines = [line.strip() for line in f]\n",
        "print(lines)"
      ],
      "metadata": {
        "colab": {
          "base_uri": "https://localhost:8080/"
        },
        "id": "_7uanfE2U-VN",
        "outputId": "f0b62852-376c-4b47-b096-0ad629f585e0"
      },
      "execution_count": 12,
      "outputs": [
        {
          "output_type": "stream",
          "name": "stdout",
          "text": [
            "['Hello, this is a test file.']\n"
          ]
        }
      ]
    },
    {
      "cell_type": "code",
      "source": [
        "# 10. Append data to an existing file\n",
        "with open('output.txt', 'a') as f:\n",
        "    f.write(\"\\nThis is appended text.\")"
      ],
      "metadata": {
        "id": "vIFbUg8JVBKe"
      },
      "execution_count": 18,
      "outputs": []
    },
    {
      "cell_type": "code",
      "source": [
        "# 11. Handle missing dictionary key error\n",
        "try:\n",
        "    my_dict = {\"name\": \"Alice\"}\n",
        "    print(my_dict[\"age\"])\n",
        "except KeyError:\n",
        "    print(\"Key not found in dictionary.\")"
      ],
      "metadata": {
        "colab": {
          "base_uri": "https://localhost:8080/"
        },
        "id": "jEz19Fy2XUCa",
        "outputId": "72a0bf5f-9d1c-4384-bc94-e70a6cf32f96"
      },
      "execution_count": 19,
      "outputs": [
        {
          "output_type": "stream",
          "name": "stdout",
          "text": [
            "Key not found in dictionary.\n"
          ]
        }
      ]
    },
    {
      "cell_type": "code",
      "source": [
        "# 12. Handle multiple exception types\n",
        "try:\n",
        "    result = 10 / 0\n",
        "except ZeroDivisionError:\n",
        "    print(\"Division by zero error\")\n",
        "except ValueError:\n",
        "    print(\"Value error occurred\")\n"
      ],
      "metadata": {
        "colab": {
          "base_uri": "https://localhost:8080/"
        },
        "id": "8wIAX3vCXgGl",
        "outputId": "25faf02f-e9cf-4285-e4b5-8b51641ec4cb"
      },
      "execution_count": 20,
      "outputs": [
        {
          "output_type": "stream",
          "name": "stdout",
          "text": [
            "Division by zero error\n"
          ]
        }
      ]
    },
    {
      "source": [
        "import os  # Import the os module\n",
        "\n",
        "# 13. Check if a file exists\n",
        "if os.path.exists('output.txt'):\n",
        "    print(\"File exists\")\n",
        "else:\n",
        "    print(\"File does not exist\")"
      ],
      "cell_type": "code",
      "metadata": {
        "colab": {
          "base_uri": "https://localhost:8080/"
        },
        "id": "Idti0p_SXqst",
        "outputId": "03ae5963-8786-4f4f-9185-e10b5d4ad0da"
      },
      "execution_count": 22,
      "outputs": [
        {
          "output_type": "stream",
          "name": "stdout",
          "text": [
            "File exists\n"
          ]
        }
      ]
    },
    {
      "cell_type": "code",
      "source": [
        "# 14. Log both informational and error messages\n",
        "logging.info(\"This is an informational message.\")\n",
        "logging.error(\"An error has occurred.\")\n",
        "\n",
        "# 15. Print file content and handle empty file case\n",
        "if os.stat('output.txt').st_size == 0:\n",
        "    print(\"File is empty\")\n",
        "else:\n",
        "    with open('output.txt', 'r') as f:\n",
        "        print(f.read())"
      ],
      "metadata": {
        "colab": {
          "base_uri": "https://localhost:8080/"
        },
        "id": "9wJ8JSoFXl4_",
        "outputId": "cc698c59-7610-452a-9f63-d5b01375f1e0"
      },
      "execution_count": 23,
      "outputs": [
        {
          "output_type": "stream",
          "name": "stderr",
          "text": [
            "ERROR:root:An error has occurred.\n"
          ]
        },
        {
          "output_type": "stream",
          "name": "stdout",
          "text": [
            "Hello, this is a test file.\n",
            "This is appended text.\n",
            "This is appended text.\n",
            "This is appended text.\n",
            "This is appended text.\n",
            "This is appended text.\n"
          ]
        }
      ]
    },
    {
      "source": [
        "## 16. Use memory profiling (requires memory_profiler package)\n",
        "!pip install memory_profiler\n",
        "\n",
        "from memory_profiler import profile\n",
        "\n",
        "@profile\n",
        "def process_numbers():\n",
        "    numbers = [i for i in range(1000000)]\n",
        "    squared_numbers = [x ** 2 for x in numbers]\n",
        "    del numbers\n",
        "    return sum(squared_numbers)\n",
        "\n",
        "if __name__ == \"__main__\":\n",
        "    result = process_numbers()\n",
        "    print(\"Sum of squares:\", result)"
      ],
      "cell_type": "code",
      "metadata": {
        "colab": {
          "base_uri": "https://localhost:8080/"
        },
        "id": "h8fYmIZBYNkD",
        "outputId": "bf0fb095-4eb5-44c6-e964-41fe9435ba8d"
      },
      "execution_count": 25,
      "outputs": [
        {
          "output_type": "stream",
          "name": "stdout",
          "text": [
            "Collecting memory_profiler\n",
            "  Downloading memory_profiler-0.61.0-py3-none-any.whl.metadata (20 kB)\n",
            "Requirement already satisfied: psutil in /usr/local/lib/python3.11/dist-packages (from memory_profiler) (5.9.5)\n",
            "Downloading memory_profiler-0.61.0-py3-none-any.whl (31 kB)\n",
            "Installing collected packages: memory_profiler\n",
            "Successfully installed memory_profiler-0.61.0\n"
          ]
        },
        {
          "output_type": "stream",
          "name": "stderr",
          "text": [
            "\n",
            "PYDEV DEBUGGER WARNING:\n",
            "sys.settrace() should not be used when the debugger is being used.\n",
            "This may cause the debugger to stop working correctly.\n",
            "If this is needed, please check: \n",
            "http://pydev.blogspot.com/2007/06/why-cant-pydev-debugger-work-with.html\n",
            "to see how to restore the debug tracing back correctly.\n",
            "Call Location:\n",
            "  File \"/usr/local/lib/python3.11/dist-packages/memory_profiler.py\", line 847, in enable\n",
            "    sys.settrace(self.trace_memory_usage)\n",
            "\n"
          ]
        },
        {
          "output_type": "stream",
          "name": "stdout",
          "text": [
            "ERROR: Could not find file <ipython-input-25-639d0dc88633>\n",
            "NOTE: %mprun can only be used on functions defined in physical files, and not in the IPython environment.\n"
          ]
        },
        {
          "output_type": "stream",
          "name": "stderr",
          "text": [
            "\n",
            "PYDEV DEBUGGER WARNING:\n",
            "sys.settrace() should not be used when the debugger is being used.\n",
            "This may cause the debugger to stop working correctly.\n",
            "If this is needed, please check: \n",
            "http://pydev.blogspot.com/2007/06/why-cant-pydev-debugger-work-with.html\n",
            "to see how to restore the debug tracing back correctly.\n",
            "Call Location:\n",
            "  File \"/usr/local/lib/python3.11/dist-packages/memory_profiler.py\", line 850, in disable\n",
            "    sys.settrace(self._original_trace_function)\n",
            "\n"
          ]
        },
        {
          "output_type": "stream",
          "name": "stdout",
          "text": [
            "Sum of squares: 333332833333500000\n"
          ]
        }
      ]
    },
    {
      "cell_type": "code",
      "source": [
        "# 17. Write a list of numbers to a file\n",
        "numbers = [1, 2, 3, 4, 5]\n",
        "with open('numbers.txt', 'w') as f:\n",
        "    for num in numbers:\n",
        "        f.write(f\"{num}\\n\")"
      ],
      "metadata": {
        "id": "QB0ra742Y39a"
      },
      "execution_count": 28,
      "outputs": []
    },
    {
      "cell_type": "code",
      "source": [
        " #18. Implement logging setup with rotation after 1MB\n",
        "\n",
        "from logging.handlers import RotatingFileHandler\n",
        "handler = RotatingFileHandler('app.log', maxBytes=1048576, backupCount=3)\n",
        "logger = logging.getLogger()\n",
        "logger.addHandler(handler)\n"
      ],
      "metadata": {
        "id": "_dv4F-Z5Y7jQ"
      },
      "execution_count": 31,
      "outputs": []
    },
    {
      "cell_type": "code",
      "source": [
        "# 19. Handle IndexError and KeyError\n",
        "try:\n",
        "    my_list = [1, 2, 3]\n",
        "    print(my_list[5])\n",
        "except (IndexError, KeyError) as e:\n",
        "    print(f\"Error occurred: {e}\")"
      ],
      "metadata": {
        "colab": {
          "base_uri": "https://localhost:8080/"
        },
        "id": "ifop1Q9lZAIo",
        "outputId": "ef80b304-78d9-4252-c7f3-b840204d3fb4"
      },
      "execution_count": 30,
      "outputs": [
        {
          "output_type": "stream",
          "name": "stdout",
          "text": [
            "Error occurred: list index out of range\n"
          ]
        }
      ]
    },
    {
      "cell_type": "code",
      "source": [
        "# 20. Read a file using context manager\n",
        "with open('output.txt', 'r') as f:\n",
        "    content = f.read()\n",
        "    print(content)\n"
      ],
      "metadata": {
        "colab": {
          "base_uri": "https://localhost:8080/"
        },
        "id": "WdOYL7nUZEdh",
        "outputId": "9b222cfe-e1d1-4266-a033-5e3ea3a9b3cb"
      },
      "execution_count": 32,
      "outputs": [
        {
          "output_type": "stream",
          "name": "stdout",
          "text": [
            "Hello, this is a test file.\n",
            "This is appended text.\n",
            "This is appended text.\n",
            "This is appended text.\n",
            "This is appended text.\n",
            "This is appended text.\n"
          ]
        }
      ]
    },
    {
      "cell_type": "code",
      "source": [
        "# 21. Count occurrences of a specific word in a file\n",
        "word_to_count = \"test\"\n",
        "with open('output.txt', 'r') as f:\n",
        "    content = f.read()\n",
        "    print(f\"Occurrences of '{word_to_count}':\", content.count(word_to_count))\n"
      ],
      "metadata": {
        "colab": {
          "base_uri": "https://localhost:8080/"
        },
        "id": "lmb8Zz1rZK-9",
        "outputId": "bdb41e28-cfff-4372-8124-4c388ea14749"
      },
      "execution_count": 33,
      "outputs": [
        {
          "output_type": "stream",
          "name": "stdout",
          "text": [
            "Occurrences of 'test': 1\n"
          ]
        }
      ]
    },
    {
      "cell_type": "code",
      "source": [
        "# 22. Check if a file is empty\n",
        "if os.path.getsize('output.txt') == 0:\n",
        "    print(\"File is empty\")\n",
        "else:\n",
        "    print(\"File is not empty\")"
      ],
      "metadata": {
        "colab": {
          "base_uri": "https://localhost:8080/"
        },
        "id": "rqnW9xpTZRcM",
        "outputId": "a7ca4567-6c66-4233-d1e8-2f869c2c123f"
      },
      "execution_count": 34,
      "outputs": [
        {
          "output_type": "stream",
          "name": "stdout",
          "text": [
            "File is not empty\n"
          ]
        }
      ]
    },
    {
      "cell_type": "code",
      "source": [
        "# 23. Log error messages during file handling\n",
        "try:\n",
        "    with open('nonexistent.txt', 'r') as f:\n",
        "        content = f.read()\n",
        "except FileNotFoundError as e:\n",
        "    logging.error(f\"File error: {e}\")"
      ],
      "metadata": {
        "colab": {
          "base_uri": "https://localhost:8080/"
        },
        "id": "9UPtbuoBZVBg",
        "outputId": "094c8cff-75d9-40df-d5a5-aa6ffaca3cb7"
      },
      "execution_count": 35,
      "outputs": [
        {
          "output_type": "stream",
          "name": "stderr",
          "text": [
            "ERROR:root:File error: [Errno 2] No such file or directory: 'nonexistent.txt'\n"
          ]
        }
      ]
    },
    {
      "cell_type": "code",
      "source": [],
      "metadata": {
        "id": "B39SX2SCZYni"
      },
      "execution_count": null,
      "outputs": []
    }
  ]
}