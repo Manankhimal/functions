{
  "nbformat": 4,
  "nbformat_minor": 0,
  "metadata": {
    "colab": {
      "provenance": []
    },
    "kernelspec": {
      "name": "python3",
      "display_name": "Python 3"
    },
    "language_info": {
      "name": "python"
    }
  },
  "cells": [
    {
      "cell_type": "markdown",
      "source": [
        "1. **What is Object-Oriented Programming (OOP)?**  \n",
        "   OOP is a programming paradigm based on the concept of objects, which contain data (attributes) and functions (methods). It promotes code reusability, scalability, and organization through principles like encapsulation, inheritance, and polymorphism.\n",
        "\n",
        "2. **What is a class in OOP?**  \n",
        "   A class is a blueprint for creating objects. It defines attributes and methods that the objects created from the class will have.\n",
        "\n",
        "3. **What is an object in OOP?**  \n",
        "   An object is an instance of a class that contains real values for the attributes defined in the class and can use the class methods.\n",
        "\n",
        "4. **What is the difference between abstraction and encapsulation?**  \n",
        "   - **Abstraction** focuses on hiding implementation details and showing only relevant functionalities.  \n",
        "   - **Encapsulation** is the technique of bundling data and methods together and restricting direct access to some of the object's components.\n",
        "\n",
        "5. **What are dunder methods in Python?**  \n",
        "   Dunder (double underscore) methods, such as `__init__`, `__str__`, and `__repr__`, are special methods in Python that allow customization of object behavior.\n",
        "\n",
        "6. **Explain the concept of inheritance in OOP.**  \n",
        "   Inheritance allows a class (child) to acquire properties and behaviors of another class (parent), enabling code reusability and hierarchy establishment.\n",
        "\n",
        "7. **What is polymorphism in OOP?**  \n",
        "   Polymorphism allows objects of different classes to be treated as objects of a common base class, supporting method overriding and method overloading.\n",
        "\n",
        "8. **How is encapsulation achieved in Python?**  \n",
        "   Encapsulation in Python is achieved using private (`__`) and protected (`_`) attributes to restrict access to class members.\n",
        "\n",
        "9. **What is a constructor in Python?**  \n",
        "   A constructor is a special method (`__init__`) in a class that initializes new objects when they are created.\n",
        "\n",
        "10. **What are class and static methods in Python?**  \n",
        "    - **Class methods (@classmethod)** take a class as their first parameter (`cls`) and can modify class-level attributes.  \n",
        "    - **Static methods (@staticmethod)** do not take a class or instance reference and work independently of the class/instance.\n",
        "\n",
        "11. **What is method overloading in Python?**  \n",
        "    Python does not support method overloading directly, but it can be achieved using default arguments or variable-length arguments.\n",
        "\n",
        "12. **What is method overriding in OOP?**  \n",
        "    Overriding allows a subclass to provide a specific implementation of a method already defined in its parent class.\n",
        "\n",
        "13. **What is a property decorator in Python?**  \n",
        "    The `@property` decorator allows a method to be accessed like an attribute, helping to implement encapsulation.\n",
        "\n",
        "14. **Why is polymorphism important in OOP?**  \n",
        "    Polymorphism increases code flexibility and reusability by allowing different object types to be treated uniformly.\n",
        "\n",
        "15. **What is an abstract class in Python?**  \n",
        "    An abstract class is a class that cannot be instantiated and may contain abstract methods that must be implemented by subclasses.\n",
        "\n",
        "16. **What are the advantages of OOP?**  \n",
        "    Advantages include modularity, reusability, scalability, and ease of maintenance.\n",
        "\n",
        "17. **What is the difference between a class variable and an instance variable?**  \n",
        "    - **Class variables** are shared across all instances of a class.  \n",
        "    - **Instance variables** are unique to each object instance.\n",
        "\n",
        "18. **What is multiple inheritance in Python?**  \n",
        "    Multiple inheritance allows a class to inherit from more than one parent class.\n",
        "\n",
        "19. **Explain the purpose of `__str__` and `__repr__` methods in Python.**  \n",
        "    - `__str__` provides a human-readable string representation of an object.  \n",
        "    - `__repr__` provides an unambiguous string representation useful for debugging.\n",
        "\n",
        "20. **What is the significance of the `super()` function in Python?**  \n",
        "    The `super()` function allows access to methods of a parent class, enabling method overriding and multiple inheritance handling.\n",
        "\n",
        "21. **What is the significance of the `__del__` method in Python?**  \n",
        "    The `__del__` method is a destructor that is called when an object is about to be deleted.\n",
        "\n",
        "22. **What is the difference between @staticmethod and @classmethod in Python?**  \n",
        "    - `@staticmethod` does not take `cls` or `self` as parameters.  \n",
        "    - `@classmethod` takes `cls` as the first parameter and can modify class-level state.\n",
        "\n",
        "23. **How does polymorphism work in Python with inheritance?**  \n",
        "    Inheritance allows different classes to provide specific implementations of a common interface, supporting polymorphism through method overriding.\n",
        "\n",
        "24. **What is method chaining in Python OOP?**  \n",
        "    Method chaining is a technique where multiple methods are called sequentially on the same object in a single statement.\n",
        "\n",
        "25. **What is the purpose of the `__call__` method in Python?**  \n",
        "    The `__call__` method allows an object instance to be called as if it were a function."
      ],
      "metadata": {
        "id": "ALx_jrAfM_lB"
      }
    },
    {
      "cell_type": "markdown",
      "source": [],
      "metadata": {
        "id": "6kMnEMEENXoX"
      }
    },
    {
      "cell_type": "markdown",
      "source": [
        "Practical Questions"
      ],
      "metadata": {
        "id": "QSztBjVFNHc1"
      }
    },
    {
      "cell_type": "code",
      "execution_count": 2,
      "metadata": {
        "colab": {
          "base_uri": "https://localhost:8080/"
        },
        "id": "yb-8QuIzK2RK",
        "outputId": "4aa353ed-7346-4949-e835-4cda0004c002"
      },
      "outputs": [
        {
          "output_type": "stream",
          "name": "stdout",
          "text": [
            "Bark!\n"
          ]
        }
      ],
      "source": [
        "# 1. Parent class Animal and child class Dog\n",
        "class Animal:\n",
        "    def speak(self):\n",
        "        print(\"This is a generic animal sound.\")\n",
        "\n",
        "class Dog(Animal):\n",
        "    def speak(self):\n",
        "        print(\"Bark!\")\n",
        "\n",
        "d = Dog()\n",
        "d.speak()"
      ]
    },
    {
      "cell_type": "code",
      "source": [
        "# 2. Abstract class Shape with derived classes Circle and Rectangle\n",
        "from abc import ABC, abstractmethod\n",
        "\n",
        "class Shape(ABC):\n",
        "    @abstractmethod\n",
        "    def area(self):\n",
        "        pass\n",
        "\n",
        "class Circle(Shape):\n",
        "    def __init__(self, radius):\n",
        "        self.radius = radius\n",
        "\n",
        "    def area(self):\n",
        "        return 3.14 * self.radius * self.radius\n",
        "\n",
        "class Rectangle(Shape):\n",
        "    def __init__(self, width, height):\n",
        "        self.width = width\n",
        "        self.height = height\n",
        "\n",
        "    def area(self):\n",
        "        return self.width * self.height\n",
        "\n",
        "c = Circle(5)\n",
        "r = Rectangle(4, 6)\n",
        "print(c.area())\n",
        "print(r.area())"
      ],
      "metadata": {
        "colab": {
          "base_uri": "https://localhost:8080/"
        },
        "id": "Y12m6mr4LJBV",
        "outputId": "33edaf21-d6c5-4f80-c521-4867546e29bb"
      },
      "execution_count": 3,
      "outputs": [
        {
          "output_type": "stream",
          "name": "stdout",
          "text": [
            "78.5\n",
            "24\n"
          ]
        }
      ]
    },
    {
      "cell_type": "code",
      "source": [
        "# 3 & 4. Multi-level inheritance with Vehicle, Car, and ElectricCar\n",
        "class Vehicle:\n",
        "    def __init__(self, type):\n",
        "        self.type = type\n",
        "\n",
        "class Car(Vehicle):\n",
        "    def __init__(self, type, brand):\n",
        "        super().__init__(type)\n",
        "        self.brand = brand\n",
        "\n",
        "class ElectricCar(Car):\n",
        "    def __init__(self, type, brand, battery):\n",
        "        super().__init__(type, brand)\n",
        "        self.battery = battery\n",
        "\n",
        "ec = ElectricCar(\"Sedan\", \"Tesla\", \"100 kWh\")\n",
        "print(ec.type, ec.brand, ec.battery)\n"
      ],
      "metadata": {
        "colab": {
          "base_uri": "https://localhost:8080/"
        },
        "id": "jpu49FtsLSxc",
        "outputId": "aedd44c0-9184-4338-a466-b16f4d5e7adb"
      },
      "execution_count": 4,
      "outputs": [
        {
          "output_type": "stream",
          "name": "stdout",
          "text": [
            "Sedan Tesla 100 kWh\n"
          ]
        }
      ]
    },
    {
      "cell_type": "code",
      "source": [
        "# 5. Encapsulation with BankAccount class\n",
        "class BankAccount:\n",
        "    def __init__(self, balance):\n",
        "        self.__balance = balance\n",
        "\n",
        "    def deposit(self, amount):\n",
        "        self.__balance += amount\n",
        "\n",
        "    def withdraw(self, amount):\n",
        "        if amount <= self.__balance:\n",
        "            self.__balance -= amount\n",
        "        else:\n",
        "            print(\"Insufficient balance\")\n",
        "\n",
        "    def check_balance(self):\n",
        "        return self.__balance\n",
        "\n",
        "account = BankAccount(1000)\n",
        "account.deposit(500)\n",
        "account.withdraw(200)\n",
        "print(account.check_balance())\n"
      ],
      "metadata": {
        "colab": {
          "base_uri": "https://localhost:8080/"
        },
        "id": "wYlxrcYdLZXZ",
        "outputId": "4d2cd369-2aca-4475-ae8f-da4e5029c671"
      },
      "execution_count": 5,
      "outputs": [
        {
          "output_type": "stream",
          "name": "stdout",
          "text": [
            "1300\n"
          ]
        }
      ]
    },
    {
      "cell_type": "code",
      "source": [
        "# 6. Runtime polymorphism with Instrument, Guitar, and Piano\n",
        "class Instrument:\n",
        "    def play(self):\n",
        "        print(\"Playing an instrument\")\n",
        "\n",
        "class Guitar(Instrument):\n",
        "    def play(self):\n",
        "        print(\"Strumming the guitar\")\n",
        "\n",
        "class Piano(Instrument):\n",
        "    def play(self):\n",
        "        print(\"Playing the piano\")\n",
        "\n",
        "g = Guitar()\n",
        "p = Piano()\n",
        "g.play()\n",
        "p.play()"
      ],
      "metadata": {
        "colab": {
          "base_uri": "https://localhost:8080/"
        },
        "id": "NJ0NVIlULd5R",
        "outputId": "35c499cf-57ac-4300-a0e4-f6487c4e33f1"
      },
      "execution_count": 6,
      "outputs": [
        {
          "output_type": "stream",
          "name": "stdout",
          "text": [
            "Strumming the guitar\n",
            "Playing the piano\n"
          ]
        }
      ]
    },
    {
      "cell_type": "code",
      "source": [
        "# 7. MathOperations with class and static methods\n",
        "class MathOperations:\n",
        "    @classmethod\n",
        "    def add_numbers(cls, a, b):\n",
        "        return a + b\n",
        "\n",
        "    @staticmethod\n",
        "    def subtract_numbers(a, b):\n",
        "        return a - b\n",
        "\n",
        "print(MathOperations.add_numbers(5, 3))\n",
        "print(MathOperations.subtract_numbers(10, 4))"
      ],
      "metadata": {
        "colab": {
          "base_uri": "https://localhost:8080/"
        },
        "id": "qqnUFHLcLnEJ",
        "outputId": "e01c6f66-fb4b-4b36-a505-ec40fe522e92"
      },
      "execution_count": 7,
      "outputs": [
        {
          "output_type": "stream",
          "name": "stdout",
          "text": [
            "8\n",
            "6\n"
          ]
        }
      ]
    },
    {
      "cell_type": "code",
      "source": [
        "# 8. Person class to count total number of persons\n",
        "class Person:\n",
        "    count = 0\n",
        "\n",
        "    def __init__(self, name):\n",
        "        self.name = name\n",
        "        Person.count += 1\n",
        "\n",
        "p1 = Person(\"Alice\")\n",
        "p2 = Person(\"Bob\")\n",
        "print(Person.count)"
      ],
      "metadata": {
        "colab": {
          "base_uri": "https://localhost:8080/"
        },
        "id": "kq7AdZWDLocc",
        "outputId": "53eb946b-ffd3-41e4-d592-19c02f136be7"
      },
      "execution_count": 8,
      "outputs": [
        {
          "output_type": "stream",
          "name": "stdout",
          "text": [
            "2\n"
          ]
        }
      ]
    },
    {
      "cell_type": "code",
      "source": [
        "# 9. Fraction class with __str__ method override\n",
        "class Fraction:\n",
        "    def __init__(self, numerator, denominator):\n",
        "        self.numerator = numerator\n",
        "        self.denominator = denominator\n",
        "\n",
        "    def __str__(self):\n",
        "        return f\"{self.numerator}/{self.denominator}\"\n",
        "\n",
        "f = Fraction(3, 4)\n",
        "print(f)"
      ],
      "metadata": {
        "colab": {
          "base_uri": "https://localhost:8080/"
        },
        "id": "u0tu5DcsLrxT",
        "outputId": "f372cfda-f67f-428c-8fd9-09446ab63f24"
      },
      "execution_count": 9,
      "outputs": [
        {
          "output_type": "stream",
          "name": "stdout",
          "text": [
            "3/4\n"
          ]
        }
      ]
    },
    {
      "cell_type": "code",
      "source": [
        "# 10. Operator overloading with Vector addition\n",
        "class Vector:\n",
        "    def __init__(self, x, y):\n",
        "        self.x = x\n",
        "        self.y = y\n",
        "\n",
        "    def __add__(self, other):\n",
        "        return Vector(self.x + other.x, self.y + other.y)\n",
        "\n",
        "v1 = Vector(2, 3)\n",
        "v2 = Vector(4, 5)\n",
        "v3 = v1 + v2\n",
        "print(v3.x, v3.y)"
      ],
      "metadata": {
        "colab": {
          "base_uri": "https://localhost:8080/"
        },
        "id": "oQ02Z0aGLuyd",
        "outputId": "97135209-d975-417f-f2d4-ec7c14e485f2"
      },
      "execution_count": 10,
      "outputs": [
        {
          "output_type": "stream",
          "name": "stdout",
          "text": [
            "6 8\n"
          ]
        }
      ]
    },
    {
      "cell_type": "code",
      "source": [
        "# 11. Person class with greet method\n",
        "class Person:\n",
        "    def __init__(self, name, age):\n",
        "        self.name = name\n",
        "        self.age = age\n",
        "\n",
        "    def greet(self):\n",
        "        print(f\"Hello, my name is {self.name} and I am {self.age} years old.\")\n",
        "\n",
        "p = Person(\"John\", 30)\n",
        "p.greet()\n"
      ],
      "metadata": {
        "colab": {
          "base_uri": "https://localhost:8080/"
        },
        "id": "JZHrTlB4LyGh",
        "outputId": "6ccc2d37-e7d5-4499-8018-140caa566e70"
      },
      "execution_count": 11,
      "outputs": [
        {
          "output_type": "stream",
          "name": "stdout",
          "text": [
            "Hello, my name is John and I am 30 years old.\n"
          ]
        }
      ]
    },
    {
      "cell_type": "code",
      "source": [
        "# 12. Student class with average_grade method\n",
        "class Student:\n",
        "    def __init__(self, name, grades):\n",
        "        self.name = name\n",
        "        self.grades = grades\n",
        "\n",
        "    def average_grade(self):\n",
        "        return sum(self.grades) / len(self.grades)\n",
        "\n",
        "s = Student(\"Emma\", [85, 90, 88])\n",
        "print(s.average_grade())"
      ],
      "metadata": {
        "colab": {
          "base_uri": "https://localhost:8080/"
        },
        "id": "5UkKxAmlL3qF",
        "outputId": "1f34c46a-c7b0-4631-9ac6-073fa6724314"
      },
      "execution_count": 12,
      "outputs": [
        {
          "output_type": "stream",
          "name": "stdout",
          "text": [
            "87.66666666666667\n"
          ]
        }
      ]
    },
    {
      "cell_type": "code",
      "source": [
        "# 13. Rectangle class with methods to set dimensions and calculate area\n",
        "class Rectangle:\n",
        "    def set_dimensions(self, width, height):\n",
        "        self.width = width\n",
        "        self.height = height\n",
        "\n",
        "    def area(self):\n",
        "        return self.width * self.height\n",
        "\n",
        "rect = Rectangle()\n",
        "rect.set_dimensions(4, 5)\n",
        "print(rect.area())\n"
      ],
      "metadata": {
        "colab": {
          "base_uri": "https://localhost:8080/"
        },
        "id": "xpvgFdaiL72u",
        "outputId": "e3278a7c-d909-4336-b6f5-7712930b838e"
      },
      "execution_count": 13,
      "outputs": [
        {
          "output_type": "stream",
          "name": "stdout",
          "text": [
            "20\n"
          ]
        }
      ]
    },
    {
      "cell_type": "code",
      "source": [
        "# 14. Employee and Manager classes with salary calculation\n",
        "class Employee:\n",
        "    def __init__(self, hours_worked, hourly_rate):\n",
        "        self.hours_worked = hours_worked\n",
        "        self.hourly_rate = hourly_rate\n",
        "\n",
        "    def calculate_salary(self):\n",
        "        return self.hours_worked * self.hourly_rate\n",
        "\n",
        "class Manager(Employee):\n",
        "    def __init__(self, hours_worked, hourly_rate, bonus):\n",
        "        super().__init__(hours_worked, hourly_rate)\n",
        "        self.bonus = bonus\n",
        "\n",
        "    def calculate_salary(self):\n",
        "        return super().calculate_salary() + self.bonus\n",
        "\n",
        "m = Manager(40, 50, 1000)\n",
        "print(m.calculate_salary())\n"
      ],
      "metadata": {
        "colab": {
          "base_uri": "https://localhost:8080/"
        },
        "id": "IadMSTp3L_Gl",
        "outputId": "525d74ef-a714-42f5-a5bc-a2cc401818fd"
      },
      "execution_count": 14,
      "outputs": [
        {
          "output_type": "stream",
          "name": "stdout",
          "text": [
            "3000\n"
          ]
        }
      ]
    },
    {
      "cell_type": "code",
      "source": [
        "# Task 15\n",
        "class Product:\n",
        "    def __init__(self, name, price, quantity):\n",
        "        self.name = name\n",
        "        self.price = price\n",
        "        self.quantity = quantity\n",
        "\n",
        "    def total_price(self):\n",
        "        return self.price * self.quantity\n",
        "\n",
        "# Example usage\n",
        "product = Product(\"Laptop\", 50000, 2)\n",
        "print(\"Total Price:\", product.total_price())\n"
      ],
      "metadata": {
        "colab": {
          "base_uri": "https://localhost:8080/"
        },
        "id": "7dfVLtt9MC5H",
        "outputId": "f7b13416-d9a4-49af-a28e-9b9a79166548"
      },
      "execution_count": 15,
      "outputs": [
        {
          "output_type": "stream",
          "name": "stdout",
          "text": [
            "Total Price: 100000\n"
          ]
        }
      ]
    },
    {
      "cell_type": "code",
      "source": [
        "# Task 16\n",
        "from abc import ABC, abstractmethod\n",
        "\n",
        "class Animal(ABC):\n",
        "    @abstractmethod\n",
        "    def sound(self):\n",
        "        pass\n",
        "\n",
        "class Cow(Animal):\n",
        "    def sound(self):\n",
        "        return \"Moo\"\n",
        "\n",
        "class Sheep(Animal):\n",
        "    def sound(self):\n",
        "        return \"Baa\"\n",
        "\n",
        "# Example usage\n",
        "cow = Cow()\n",
        "sheep = Sheep()\n",
        "print(\"Cow sound:\", cow.sound())\n",
        "print(\"Sheep sound:\", sheep.sound())\n"
      ],
      "metadata": {
        "colab": {
          "base_uri": "https://localhost:8080/"
        },
        "id": "Ly04qL-RMovo",
        "outputId": "51598085-1863-4704-966a-2113e05aabea"
      },
      "execution_count": 16,
      "outputs": [
        {
          "output_type": "stream",
          "name": "stdout",
          "text": [
            "Cow sound: Moo\n",
            "Sheep sound: Baa\n"
          ]
        }
      ]
    },
    {
      "cell_type": "code",
      "source": [
        "# Task 17\n",
        "class Book:\n",
        "    def __init__(self, title, author, year_published):\n",
        "        self.title = title\n",
        "        self.author = author\n",
        "        self.year_published = year_published\n",
        "\n",
        "    def get_book_info(self):\n",
        "        return f\"Title: {self.title}, Author: {self.author}, Year Published: {self.year_published}\"\n",
        "\n",
        "# Example usage\n",
        "book = Book(\"1984\", \"George Orwell\", 1949)\n",
        "print(book.get_book_info())\n"
      ],
      "metadata": {
        "colab": {
          "base_uri": "https://localhost:8080/"
        },
        "id": "tflEWlSNMsXC",
        "outputId": "b04a6059-cf5f-44a1-aad1-2dab5b61705e"
      },
      "execution_count": 17,
      "outputs": [
        {
          "output_type": "stream",
          "name": "stdout",
          "text": [
            "Title: 1984, Author: George Orwell, Year Published: 1949\n"
          ]
        }
      ]
    },
    {
      "cell_type": "code",
      "source": [
        "# Task 18\n",
        "class House:\n",
        "    def __init__(self, address, price):\n",
        "        self.address = address\n",
        "        self.price = price\n",
        "\n",
        "class Mansion(House):\n",
        "    def __init__(self, address, price, number_of_rooms):\n",
        "        super().__init__(address, price)\n",
        "        self.number_of_rooms = number_of_rooms\n",
        "\n",
        "# Example usage\n",
        "mansion = Mansion(\"123 Luxury St\", 50000000, 10)\n",
        "print(f\"Address: {mansion.address}, Price: {mansion.price}, Rooms: {mansion.number_of_rooms}\")"
      ],
      "metadata": {
        "colab": {
          "base_uri": "https://localhost:8080/"
        },
        "id": "THj-DIpQMv5w",
        "outputId": "2250ea0c-88a1-4eae-cbeb-a936f6fbd9f3"
      },
      "execution_count": 18,
      "outputs": [
        {
          "output_type": "stream",
          "name": "stdout",
          "text": [
            "Address: 123 Luxury St, Price: 50000000, Rooms: 10\n"
          ]
        }
      ]
    },
    {
      "cell_type": "code",
      "source": [],
      "metadata": {
        "id": "v6e7CTcKMz3y"
      },
      "execution_count": null,
      "outputs": []
    },
    {
      "cell_type": "markdown",
      "source": [],
      "metadata": {
        "id": "wqPbkid6M7U_"
      }
    }
  ]
}