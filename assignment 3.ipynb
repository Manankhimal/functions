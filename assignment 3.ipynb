{
  "nbformat": 4,
  "nbformat_minor": 0,
  "metadata": {
    "colab": {
      "provenance": []
    },
    "kernelspec": {
      "name": "python3",
      "display_name": "Python 3"
    },
    "language_info": {
      "name": "python"
    }
  },
  "cells": [
    {
      "cell_type": "code",
      "execution_count": null,
      "metadata": {
        "id": "TFfVOk3eNF5w"
      },
      "outputs": [],
      "source": []
    },
    {
      "cell_type": "markdown",
      "source": [
        "Here’s a detailed response to your theory questions along with examples for each. For question 11, I’ll provide an image representation of the explanation.\n",
        "\n",
        "---\n",
        "\n",
        "### 1. **Difference Between a Function and a Method in Python**\n",
        "   - **Function:** A block of reusable code defined outside of a class. It operates on data passed to it explicitly.\n",
        "   - **Method:** A function that is associated with an object and is called on it. It operates on the data within the object.\n",
        "   - **Example:**\n",
        "     ```python\n",
        "     # Function\n",
        "     def greet(name):\n",
        "         return f\"Hello, {name}!\"\n",
        "     print(greet(\"Alice\"))\n",
        "\n",
        "     # Method\n",
        "     class Greeter:\n",
        "         def greet(self, name):\n",
        "             return f\"Hello, {name}!\"\n",
        "     obj = Greeter()\n",
        "     print(obj.greet(\"Bob\"))\n",
        "     ```\n",
        "\n",
        "---\n",
        "\n",
        "### 2. **Function Arguments and Parameters**\n",
        "   - **Parameters:** Variables defined in the function definition.\n",
        "   - **Arguments:** Actual values passed to the function during a call.\n",
        "   - **Example:**\n",
        "     ```python\n",
        "     def add(a, b):  # a and b are parameters\n",
        "         return a + b\n",
        "     print(add(3, 5))  # 3 and 5 are arguments\n",
        "     ```\n",
        "\n",
        "---\n",
        "\n",
        "### 3. **Ways to Define and Call Functions**\n",
        "   - **Define:**\n",
        "     - Using `def`\n",
        "     - Using lambda (anonymous function)\n",
        "   - **Call:**\n",
        "     - Using positional arguments\n",
        "     - Using keyword arguments\n",
        "     - Using unpacking\n",
        "   - **Example:**\n",
        "     ```python\n",
        "     # Define and call using `def`\n",
        "     def greet(name):\n",
        "         return f\"Hi {name}\"\n",
        "     print(greet(\"Alice\"))\n",
        "\n",
        "     # Using lambda\n",
        "     add = lambda x, y: x + y\n",
        "     print(add(3, 4))\n",
        "\n",
        "     # Call with unpacking\n",
        "     args = (\"John\",)\n",
        "     print(greet(*args))\n",
        "     ```\n",
        "\n",
        "---\n",
        "\n",
        "### 4. **Purpose of the `return` Statement**\n",
        "   - Transfers the result from a function to the caller.\n",
        "   - Ends the function's execution.\n",
        "   - **Example:**\n",
        "     ```python\n",
        "     def square(num):\n",
        "         return num * num\n",
        "     result = square(4)\n",
        "     print(result)  # 16\n",
        "     ```\n",
        "\n",
        "---\n",
        "\n",
        "### 5. **Iterators vs Iterables**\n",
        "   - **Iterable:** Object that can be iterated over (e.g., lists, strings).\n",
        "   - **Iterator:** Object that produces values one at a time using `__next__()`.\n",
        "   - **Example:**\n",
        "     ```python\n",
        "     iterable = [1, 2, 3]\n",
        "     iterator = iter(iterable)\n",
        "     print(next(iterator))  # 1\n",
        "     print(next(iterator))  # 2\n",
        "     ```\n",
        "\n",
        "---\n",
        "\n",
        "### 6. **Concept of Generators**\n",
        "   - Special type of iterator created using a function with the `yield` keyword.\n",
        "   - Generates values lazily.\n",
        "   - **Example:**\n",
        "     ```python\n",
        "     def count_up_to(max):\n",
        "         count = 1\n",
        "         while count <= max:\n",
        "             yield count\n",
        "             count += 1\n",
        "     for num in count_up_to(3):\n",
        "         print(num)  # 1, 2, 3\n",
        "     ```\n",
        "\n",
        "---\n",
        "\n",
        "### 7. **Advantages of Generators**\n",
        "   - Memory efficient for large datasets.\n",
        "   - Allows lazy evaluation.\n",
        "   - **Example:**\n",
        "     ```python\n",
        "     def large_numbers():\n",
        "         n = 1\n",
        "         while True:\n",
        "             yield n\n",
        "             n += 1\n",
        "     gen = large_numbers()\n",
        "     print(next(gen))  # 1\n",
        "     print(next(gen))  # 2\n",
        "     ```\n",
        "\n",
        "---\n",
        "\n",
        "### 8. **Lambda Function**\n",
        "   - Anonymous single-expression functions.\n",
        "   - Used for short, throwaway functions.\n",
        "   - **Example:**\n",
        "     ```python\n",
        "     square = lambda x: x ** 2\n",
        "     print(square(5))  # 25\n",
        "     ```\n",
        "\n",
        "---\n",
        "\n",
        "### 9. **Purpose of `map()` Function**\n",
        "   - Applies a function to each item of an iterable.\n",
        "   - **Example:**\n",
        "     ```python\n",
        "     nums = [1, 2, 3]\n",
        "     doubled = map(lambda x: x * 2, nums)\n",
        "     print(list(doubled))  # [2, 4, 6]\n",
        "     ```\n",
        "\n",
        "### 10. **Difference Between `map()`, `reduce()`, and `filter()`**\n",
        "   - **`map()`:** Applies a function to all elements.\n",
        "   - **`filter()`:** Filters elements based on a condition.\n",
        "   - **`reduce()`:** Aggregates elements to a single value.\n",
        "   - **Example:**\n",
        "     ```python\n",
        "     from functools import reduce\n",
        "     nums = [1, 2, 3, 4]\n",
        "\n",
        "     # map\n",
        "     squared = list(map(lambda x: x ** 2, nums))  # [1, 4, 9, 16]\n",
        "\n",
        "     # filter\n",
        "     evens = list(filter(lambda x: x % 2 == 0, nums))  # [2, 4]\n",
        "\n",
        "     # reduce\n",
        "     total = reduce(lambda x, y: x + y, nums)  # 10\n",
        "     ```\n",
        "\n",
        "\n",
        "### 11. **Internal Mechanism of `reduce()` for Sum Operation**\n"
      ],
      "metadata": {
        "id": "feYwtjRuNGmj"
      }
    },
    {
      "cell_type": "markdown",
      "source": [],
      "metadata": {
        "id": "c4V90xi6RLjE"
      }
    },
    {
      "cell_type": "markdown",
      "source": [],
      "metadata": {
        "id": "chaeoOlKROiW"
      }
    },
    {
      "cell_type": "markdown",
      "source": [
        "# Pratical Question"
      ],
      "metadata": {
        "id": "9G251AViR2zM"
      }
    },
    {
      "cell_type": "code",
      "source": [
        "1\n",
        "def sum_of_evens(numbers):\n",
        "    return sum(num for num in numbers if num % 2 == 0)\n",
        "\n",
        "print(sum_of_evens([1, 2, 3, 4, 5, 6,7,8]))\n",
        "\n",
        "\n"
      ],
      "metadata": {
        "colab": {
          "base_uri": "https://localhost:8080/"
        },
        "id": "q9Kz35RzSAcx",
        "outputId": "5b442b1c-d8af-45e0-f47c-5ffa1cdb4e9d"
      },
      "execution_count": null,
      "outputs": [
        {
          "output_type": "stream",
          "name": "stdout",
          "text": [
            "20\n"
          ]
        }
      ]
    },
    {
      "cell_type": "code",
      "source": [
        "2\n",
        "s1 = (\"pwskills\")\n",
        "def reverse_string(s1):\n",
        "    return s1[::-1]\n",
        "\n",
        "print(reverse_string(s1))"
      ],
      "metadata": {
        "colab": {
          "base_uri": "https://localhost:8080/"
        },
        "id": "ZQMqjlCwS_La",
        "outputId": "e02ad1e9-cba9-4d4e-9efb-806ca3913003"
      },
      "execution_count": null,
      "outputs": [
        {
          "output_type": "stream",
          "name": "stdout",
          "text": [
            "sllikswp\n"
          ]
        }
      ]
    },
    {
      "cell_type": "code",
      "source": [
        "3\n",
        "square_num = [1,2,3,4,]\n",
        "def square(square_num):\n",
        "    return [i**2 for i in square_num]\n",
        "\n",
        "print(square(square_num))\n"
      ],
      "metadata": {
        "colab": {
          "base_uri": "https://localhost:8080/"
        },
        "id": "5QwrcBGNS_H9",
        "outputId": "cfc78ad2-c62e-4a0b-cf1f-d440ab2c5f79"
      },
      "execution_count": null,
      "outputs": [
        {
          "output_type": "stream",
          "name": "stdout",
          "text": [
            "[1, 4, 9, 16]\n"
          ]
        }
      ]
    },
    {
      "cell_type": "code",
      "source": [
        "4\n",
        "def is_prime(num):\n",
        "    if num < 2:\n",
        "        return False\n",
        "    for i in range(2, num):\n",
        "        if num % i == 0:\n",
        "            return False\n",
        "    return True\n",
        "\n",
        "is_prime(19)"
      ],
      "metadata": {
        "colab": {
          "base_uri": "https://localhost:8080/"
        },
        "id": "tl_e33NzVfsq",
        "outputId": "c7e69b70-4cf0-4b7e-85d8-5a051b0845cd"
      },
      "execution_count": null,
      "outputs": [
        {
          "output_type": "execute_result",
          "data": {
            "text/plain": [
              "True"
            ]
          },
          "metadata": {},
          "execution_count": 34
        }
      ]
    },
    {
      "cell_type": "code",
      "source": [
        "5\n",
        "class Fibonacci:\n",
        "    def __init__(self, terms):\n",
        "        self.terms = terms\n",
        "        self.current, self.next = 0, 1\n",
        "        self.count = 0\n",
        "\n",
        "    def __iter__(self):\n",
        "        return self\n",
        "\n",
        "    def __next__(self):\n",
        "        if self.count >= self.terms:\n",
        "            raise StopIteration\n",
        "        self.count += 1\n",
        "        fib = self.current\n",
        "        self.current, self.next = self.next, self.current + self.next\n",
        "        return fib\n",
        "\n",
        "fib = Fibonacci(10)\n",
        "for num in fib:\n",
        "    print(num, end=\" \")\n"
      ],
      "metadata": {
        "colab": {
          "base_uri": "https://localhost:8080/"
        },
        "id": "yHgFvSXWV8RV",
        "outputId": "7bdbd1b2-79c9-4d66-de77-dd4de8ce20cb"
      },
      "execution_count": null,
      "outputs": [
        {
          "output_type": "stream",
          "name": "stdout",
          "text": [
            "0 1 1 2 3 5 8 13 21 34 "
          ]
        }
      ]
    },
    {
      "cell_type": "code",
      "source": [],
      "metadata": {
        "id": "YeqpSLC6Wdg7"
      },
      "execution_count": null,
      "outputs": []
    }
  ]
}