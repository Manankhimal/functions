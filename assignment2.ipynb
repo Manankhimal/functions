{
  "cells": [
    {
      "cell_type": "markdown",
      "source": [],
      "metadata": {
        "id": "_c3_GTlbyOuC"
      }
    },
    {
      "cell_type": "markdown",
      "source": [
        "\n",
        "### **1. What are data structures, and why are they important?**  \n",
        "**Answer:**  \n",
        "Data structures are ways of organizing and storing data in a computer so that it can be accessed and modified efficiently. They are important because they optimize data processing, improve performance, and allow efficient algorithms to be implemented. Examples include lists, tuples, dictionaries, and sets in Python.\n",
        "\n",
        "\n",
        "### **2. Explain the difference between mutable and immutable data types with examples.**  \n",
        "**Answer:**  \n",
        "- **Mutable data types** can be changed after creation. Example: Lists (`list`), Dictionaries (`dict`), Sets (`set`).  \n",
        "  ```python\n",
        "  my_list = [1, 2, 3]\n",
        "  my_list[0] = 100  # List is mutable\n",
        "  ```\n",
        "- **Immutable data types** cannot be changed after creation. Example: Tuples (`tuple`), Strings (`str`), Integers (`int`).  \n",
        "  ```python\n",
        "  my_tuple = (1, 2, 3)\n",
        "  my_tuple[0] = 100  # Error! Tuples are immutable\n",
        "  ```\n",
        "\n",
        "\n",
        "### **3. What are the main differences between lists and tuples in Python?**  \n",
        "**Answer:**  \n",
        "| Feature | List | Tuple |\n",
        "|---------|------|-------|\n",
        "| **Mutable?** | Yes | No |\n",
        "| **Performance** | Slower (modifiable) | Faster (fixed) |\n",
        "| **Syntax** | `[]` (square brackets) | `()` (parentheses) |\n",
        "| **Use Case** | When data changes frequently | When data should remain constant |\n",
        "\n",
        "Example:  \n",
        "```python\n",
        "my_list = [1, 2, 3]  # Mutable\n",
        "my_tuple = (1, 2, 3)  # Immutable\n",
        "```\n",
        "\n",
        "### **4. Describe how dictionaries store data.**  \n",
        "**Answer:**  \n",
        "Dictionaries store data in **key-value pairs** using a **hash table**. Each key is unique and maps to a value. The keys allow for fast lookups.  \n",
        "Example:  \n",
        "```python\n",
        "my_dict = {\"name\": \"Alice\", \"age\": 25}\n",
        "print(my_dict[\"name\"])  # Alice\n",
        "```\n",
        "\n",
        "\n",
        "### **5. Why might you use a set instead of a list in Python?**  \n",
        "**Answer:**  \n",
        "- **Sets are faster** for checking if an element exists (`O(1)` vs. `O(n)` for lists).  \n",
        "- **Sets store only unique values**, preventing duplicates automatically.  \n",
        "Example:  \n",
        "```python\n",
        "my_set = {1, 2, 3, 3}\n",
        "print(my_set)  # {1, 2, 3}\n",
        "```\n",
        "\n",
        "\n",
        "### **6. What is a string in Python, and how is it different from a list?**  \n",
        "**Answer:**  \n",
        "- A **string (`str`)** is an immutable sequence of characters.  \n",
        "- A **list (`list`)** is mutable and can store different types of elements.  \n",
        "Example:  \n",
        "```python\n",
        "my_string = \"hello\"\n",
        "my_list = [\"h\", \"e\", \"l\", \"l\", \"o\"]\n",
        "\n",
        "my_list[0] = \"H\"  # Works\n",
        "my_string[0] = \"H\"  # Error! Strings are immutable\n",
        "```\n",
        "\n",
        "### **7. How do tuples ensure data integrity in Python?**  \n",
        "**Answer:**  \n",
        "Tuples are **immutable**, meaning their values cannot be modified after creation. This prevents accidental changes, making them ideal for storing constant data.  \n",
        "Example:  \n",
        "```python\n",
        "coordinates = (10.0, 20.0)  # Ensures values remain unchanged\n",
        "```\n",
        "\n",
        "### **8. What is a hash table, and how does it relate to dictionaries in Python?**  \n",
        "**Answer:**  \n",
        "A **hash table** is a data structure that maps keys to values using a **hash function**. Python dictionaries use hash tables internally to provide **fast lookups (`O(1)`)**.\n",
        "\n",
        "\n",
        "### **9. Can lists contain different data types in Python?**  \n",
        "**Answer:**  \n",
        "Yes, Python lists can store **heterogeneous data types**.  \n",
        "Example:  \n",
        "```python\n",
        "my_list = [1, \"hello\", 3.14, True]\n",
        "```\n",
        "\n",
        "### **10. Explain why strings are immutable in Python.**  \n",
        "**Answer:**  \n",
        "Strings are immutable to enhance **security**, **performance**, and **thread safety**. Since they cannot be changed, they are **more efficient** for memory management.  \n",
        "Example:  \n",
        "```python\n",
        "s = \"hello\"\n",
        "s[0] = \"H\"  # Error!\n",
        "```\n",
        "\n",
        "\n",
        "### **11. What advantages do dictionaries offer over lists for certain tasks?**  \n",
        "**Answer:**  \n",
        "- **Fast lookups (`O(1)`)** compared to lists (`O(n)`).  \n",
        "- **Key-value pairing** makes data more structured.  \n",
        "- **No duplicate keys** ensure uniqueness.\n",
        "\n",
        "\n",
        "### **12. Describe a scenario where using a tuple would be preferable over a list.**  \n",
        "**Answer:**  \n",
        "Tuples are useful for **fixed data** like database records:  \n",
        "```python\n",
        "student = (\"Alice\", 25, \"A+\")  # Name, Age, Grade\n",
        "```\n",
        "\n",
        "\n",
        "\n",
        "### **13. How do sets handle duplicate values in Python?**  \n",
        "**Answer:**  \n",
        "Sets **automatically remove duplicates**.  \n",
        "```python\n",
        "my_set = {1, 2, 2, 3}\n",
        "print(my_set)  # {1, 2, 3}\n",
        "```\n",
        "\n",
        "\n",
        "### **14. How does the \"in\" keyword work differently for lists and dictionaries?**  \n",
        "**Answer:**  \n",
        "- **Lists:** Checks if an item exists (slower, `O(n)`).  \n",
        "- **Dictionaries:** Checks if a key exists (faster, `O(1)`).  \n",
        "\n",
        "Example:  \n",
        "```python\n",
        "print(2 in [1, 2, 3])  # True\n",
        "print(\"name\" in {\"name\": \"Alice\"})  # True\n",
        "```\n",
        "\n",
        "\n",
        "### **15. Can you modify the elements of a tuple? Explain why or why not.**  \n",
        "**Answer:**  \n",
        "No, tuples are immutable.  \n",
        "```python\n",
        "t = (1, 2, 3)\n",
        "t[0] = 100  # Error!\n",
        "```\n",
        "\n",
        "\n",
        "### **16. What is a nested dictionary, and give an example of its use case?**  \n",
        "**Answer:**  \n",
        "A **nested dictionary** is a dictionary inside another dictionary.  \n",
        "Example:  \n",
        "```python\n",
        "students = {\n",
        "    \"Alice\": {\"age\": 25, \"grade\": \"A\"},\n",
        "    \"Bob\": {\"age\": 24, \"grade\": \"B\"}\n",
        "}\n",
        "\n",
        "\n",
        "### **17. Describe the time complexity of accessing elements in a dictionary.**  \n",
        "**Answer:**  \n",
        "Dictionaries provide **O(1)** (constant time) lookup due to hash tables.\n",
        "\n",
        "---\n",
        "\n",
        "### **18. In what situations are lists preferred over dictionaries?**  \n",
        "**Answer:**  \n",
        "- When order matters.  \n",
        "- When elements don’t need unique keys.  \n",
        "- When you frequently **iterate over values**.\n",
        "\n",
        "---\n",
        "\n",
        "### **19. Why are dictionaries considered unordered, and how does that affect data retrieval?**  \n",
        "**Answer:**  \n",
        "Before Python 3.7, dictionaries didn’t maintain order. Even though modern Python retains order, dictionaries use hash tables, meaning they retrieve elements based on **keys**, not positions.\n",
        "\n",
        "---\n",
        "\n",
        "### **20. Explain the difference between a list and a dictionary in terms of data retrieval.**  \n",
        "**Answer:**  \n",
        "- **Lists use index-based retrieval (`O(n)`)**  \n",
        "- **Dictionaries use key-based retrieval (`O(1)`)**  \n",
        "Example:  \n",
        "```python\n",
        "my_list = [10, 20, 30]\n",
        "print(my_list[1])  # Index-based retrieval\n",
        "\n",
        "my_dict = {\"a\": 10, \"b\": 20}\n",
        "print(my_dict[\"b\"])  # Key-based retrieval\n",
        "```\n",
        "\n"
      ],
      "metadata": {
        "id": "xR8PrTS1zL5N"
      }
    },
    {
      "cell_type": "code",
      "source": [
        "# Pratical question\n",
        "string1 = \"manan singh khimal\"\n",
        "print(string1)"
      ],
      "metadata": {
        "id": "8t_Ak6mO5Dqu",
        "outputId": "c674231b-54b3-46c8-d0be-bcdd3ce11211",
        "colab": {
          "base_uri": "https://localhost:8080/"
        }
      },
      "execution_count": 2,
      "outputs": [
        {
          "output_type": "stream",
          "name": "stdout",
          "text": [
            "manan singh khimal\n"
          ]
        }
      ]
    },
    {
      "cell_type": "code",
      "source": [
        "len(\"Hello world\")"
      ],
      "metadata": {
        "id": "KPPq75-m7rff",
        "outputId": "23c4278d-10bd-48ca-ea35-2845e76065fa",
        "colab": {
          "base_uri": "https://localhost:8080/"
        }
      },
      "execution_count": 3,
      "outputs": [
        {
          "output_type": "execute_result",
          "data": {
            "text/plain": [
              "11"
            ]
          },
          "metadata": {},
          "execution_count": 3
        }
      ]
    },
    {
      "cell_type": "code",
      "source": [
        "string2 = \"Python Programing\"\n",
        "string2[0:3]"
      ],
      "metadata": {
        "id": "1w7sXnQY8OWf",
        "outputId": "27bd0a93-d946-4b5e-bf0b-40cf2a2234e5",
        "colab": {
          "base_uri": "https://localhost:8080/",
          "height": 36
        }
      },
      "execution_count": 13,
      "outputs": [
        {
          "output_type": "execute_result",
          "data": {
            "text/plain": [
              "'Pyt'"
            ],
            "application/vnd.google.colaboratory.intrinsic+json": {
              "type": "string"
            }
          },
          "metadata": {},
          "execution_count": 13
        }
      ]
    },
    {
      "cell_type": "code",
      "source": [
        "string3 = \"hello\"\n",
        "string3.upper()"
      ],
      "metadata": {
        "id": "Mnwug3729a1N",
        "outputId": "e84632d6-226d-403a-9f03-3f22e5b05efb",
        "colab": {
          "base_uri": "https://localhost:8080/",
          "height": 36
        }
      },
      "execution_count": 14,
      "outputs": [
        {
          "output_type": "execute_result",
          "data": {
            "text/plain": [
              "'HELLO'"
            ],
            "application/vnd.google.colaboratory.intrinsic+json": {
              "type": "string"
            }
          },
          "metadata": {},
          "execution_count": 14
        }
      ]
    },
    {
      "cell_type": "code",
      "source": [
        "string3 = \"i like apple\"\n",
        "string3.replace(\"apple\", \"orange\")"
      ],
      "metadata": {
        "id": "JIbo-lvm_M7Q",
        "outputId": "fe1574c8-debe-4e21-dd00-cf3cf5c29609",
        "colab": {
          "base_uri": "https://localhost:8080/",
          "height": 36
        }
      },
      "execution_count": 15,
      "outputs": [
        {
          "output_type": "execute_result",
          "data": {
            "text/plain": [
              "'i like orange'"
            ],
            "application/vnd.google.colaboratory.intrinsic+json": {
              "type": "string"
            }
          },
          "metadata": {},
          "execution_count": 15
        }
      ]
    },
    {
      "cell_type": "code",
      "source": [
        "lis = [1, 2, 3, 4, 5]\n",
        "lis"
      ],
      "metadata": {
        "id": "BvdGoVIx_lsP",
        "outputId": "abdf554f-1334-4e9a-8be3-e11ecdece4f0",
        "colab": {
          "base_uri": "https://localhost:8080/"
        }
      },
      "execution_count": 17,
      "outputs": [
        {
          "output_type": "execute_result",
          "data": {
            "text/plain": [
              "[1, 2, 3, 4, 5]"
            ]
          },
          "metadata": {},
          "execution_count": 17
        }
      ]
    },
    {
      "cell_type": "code",
      "source": [
        "lis1 = [1,2,3,4]\n",
        "lis1.append(10)\n",
        "lis1"
      ],
      "metadata": {
        "id": "nN8cCApW_w_r",
        "outputId": "2b7e2eaa-4bd5-4d4d-fabf-e89fc27726d1",
        "colab": {
          "base_uri": "https://localhost:8080/"
        }
      },
      "execution_count": 18,
      "outputs": [
        {
          "output_type": "execute_result",
          "data": {
            "text/plain": [
              "[1, 2, 3, 4, 10]"
            ]
          },
          "metadata": {},
          "execution_count": 18
        }
      ]
    },
    {
      "cell_type": "code",
      "source": [
        "lis = [1, 2, 3, 4, 5]\n",
        "lis.remove(3)\n",
        "lis"
      ],
      "metadata": {
        "id": "hI_qlwCTAy65",
        "outputId": "2ac9d1e6-bae9-4a09-c39c-fea59ea87303",
        "colab": {
          "base_uri": "https://localhost:8080/"
        }
      },
      "execution_count": 24,
      "outputs": [
        {
          "output_type": "execute_result",
          "data": {
            "text/plain": [
              "[1, 2, 4, 5]"
            ]
          },
          "metadata": {},
          "execution_count": 24
        }
      ]
    },
    {
      "cell_type": "code",
      "source": [
        "lis3 = ['a','b','c','d']\n",
        "lis3[1]\n"
      ],
      "metadata": {
        "id": "qBrQlrjvA7x1",
        "outputId": "4548b6e3-c5c1-433b-e8aa-48984cf6e3b9",
        "colab": {
          "base_uri": "https://localhost:8080/",
          "height": 36
        }
      },
      "execution_count": 26,
      "outputs": [
        {
          "output_type": "execute_result",
          "data": {
            "text/plain": [
              "'b'"
            ],
            "application/vnd.google.colaboratory.intrinsic+json": {
              "type": "string"
            }
          },
          "metadata": {},
          "execution_count": 26
        }
      ]
    },
    {
      "cell_type": "code",
      "source": [
        "lis4 =[10,20,30,40,50]\n",
        "lis4.reverse()\n",
        "print(lis4)"
      ],
      "metadata": {
        "id": "ovXEzAHDCK7a",
        "outputId": "275aea52-7ad1-41bb-91b2-071dd17a42ec",
        "colab": {
          "base_uri": "https://localhost:8080/"
        }
      },
      "execution_count": 33,
      "outputs": [
        {
          "output_type": "stream",
          "name": "stdout",
          "text": [
            "[50, 40, 30, 20, 10]\n"
          ]
        }
      ]
    },
    {
      "cell_type": "markdown",
      "source": [],
      "metadata": {
        "id": "fziJ1bA4C9Ci"
      }
    },
    {
      "cell_type": "code",
      "source": [
        "t = (10,20,30)\n",
        "print(t)"
      ],
      "metadata": {
        "id": "R9lReclcC7NS",
        "outputId": "2ca5fa8e-18b1-40d6-8d35-1fc165fded01",
        "colab": {
          "base_uri": "https://localhost:8080/"
        }
      },
      "execution_count": 35,
      "outputs": [
        {
          "output_type": "stream",
          "name": "stdout",
          "text": [
            "(10, 20, 30)\n"
          ]
        }
      ]
    },
    {
      "cell_type": "code",
      "source": [
        "t1 = ('apple','banana','cherry')\n",
        "t[0]"
      ],
      "metadata": {
        "id": "fbC5s8_HDSPC",
        "outputId": "2c672f6b-1ee6-40b0-fe73-eb98a60e8175",
        "colab": {
          "base_uri": "https://localhost:8080/"
        }
      },
      "execution_count": 36,
      "outputs": [
        {
          "output_type": "execute_result",
          "data": {
            "text/plain": [
              "10"
            ]
          },
          "metadata": {},
          "execution_count": 36
        }
      ]
    },
    {
      "cell_type": "code",
      "source": [
        "t2 = (1,2,3,2,4,2)\n",
        "t2.count(2)"
      ],
      "metadata": {
        "id": "btmqh_q0D0I5",
        "outputId": "49155fc4-9db8-4580-c043-b1d91cc60783",
        "colab": {
          "base_uri": "https://localhost:8080/"
        }
      },
      "execution_count": 37,
      "outputs": [
        {
          "output_type": "execute_result",
          "data": {
            "text/plain": [
              "3"
            ]
          },
          "metadata": {},
          "execution_count": 37
        }
      ]
    },
    {
      "cell_type": "code",
      "source": [
        "t3 = ('dog','cat','rabbit')\n",
        "t3.index('cat')"
      ],
      "metadata": {
        "id": "s-iZngJ9EQFj",
        "outputId": "94b705de-5f8d-422b-88d9-d38eb8c2ab91",
        "colab": {
          "base_uri": "https://localhost:8080/"
        }
      },
      "execution_count": 38,
      "outputs": [
        {
          "output_type": "execute_result",
          "data": {
            "text/plain": [
              "1"
            ]
          },
          "metadata": {},
          "execution_count": 38
        }
      ]
    },
    {
      "cell_type": "code",
      "source": [
        "t4 = ('apple','orange','banana')\n",
        "print('banana in t4')"
      ],
      "metadata": {
        "id": "g_ei7Q6zEd-8",
        "outputId": "9c2810eb-4e39-4478-90e3-d80b117e8f4e",
        "colab": {
          "base_uri": "https://localhost:8080/"
        }
      },
      "execution_count": 42,
      "outputs": [
        {
          "output_type": "stream",
          "name": "stdout",
          "text": [
            "banana in t4\n"
          ]
        }
      ]
    },
    {
      "cell_type": "code",
      "source": [
        "s = {1,2,3,4,5}\n",
        "s"
      ],
      "metadata": {
        "id": "j-InbxZuFqyC",
        "outputId": "45a28fb5-a8c1-43ca-d447-71b4c74237db",
        "colab": {
          "base_uri": "https://localhost:8080/"
        }
      },
      "execution_count": 43,
      "outputs": [
        {
          "output_type": "execute_result",
          "data": {
            "text/plain": [
              "{1, 2, 3, 4, 5}"
            ]
          },
          "metadata": {},
          "execution_count": 43
        }
      ]
    },
    {
      "cell_type": "code",
      "source": [
        "s1 = {1,2,3,4}\n",
        "s1.update([6])\n",
        "print(s1)"
      ],
      "metadata": {
        "id": "zGtRxaDRGPHm",
        "outputId": "576b19ca-1c4c-44b4-a589-3568f240c929",
        "colab": {
          "base_uri": "https://localhost:8080/"
        }
      },
      "execution_count": 46,
      "outputs": [
        {
          "output_type": "stream",
          "name": "stdout",
          "text": [
            "{1, 2, 3, 4, 6}\n"
          ]
        }
      ]
    },
    {
      "cell_type": "code",
      "source": [
        "tuple = (10,20,30)\n",
        "print(tuple)"
      ],
      "metadata": {
        "id": "WcB9QwaiGtjP",
        "outputId": "86f6f9b1-539b-4b5c-95d2-975664ec1722",
        "colab": {
          "base_uri": "https://localhost:8080/"
        }
      },
      "execution_count": 47,
      "outputs": [
        {
          "output_type": "stream",
          "name": "stdout",
          "text": [
            "(10, 20, 30)\n"
          ]
        }
      ]
    },
    {
      "cell_type": "code",
      "source": [
        "fruits = ('apple','banana','cherry')\n",
        "fruits[0]"
      ],
      "metadata": {
        "id": "FMA9f01mHZD0",
        "outputId": "38205242-e930-44d3-829e-3c6f5547b266",
        "colab": {
          "base_uri": "https://localhost:8080/",
          "height": 36
        }
      },
      "execution_count": 53,
      "outputs": [
        {
          "output_type": "execute_result",
          "data": {
            "text/plain": [
              "'apple'"
            ],
            "application/vnd.google.colaboratory.intrinsic+json": {
              "type": "string"
            }
          },
          "metadata": {},
          "execution_count": 53
        }
      ]
    },
    {
      "cell_type": "code",
      "source": [
        "num = (1,2,3,2,4,2)\n",
        "num.count(2)"
      ],
      "metadata": {
        "id": "6bW_sAxzHjAb",
        "outputId": "e214d63d-4d6b-4924-cedf-249b84b4ef2f",
        "colab": {
          "base_uri": "https://localhost:8080/"
        }
      },
      "execution_count": 54,
      "outputs": [
        {
          "output_type": "execute_result",
          "data": {
            "text/plain": [
              "3"
            ]
          },
          "metadata": {},
          "execution_count": 54
        }
      ]
    },
    {
      "cell_type": "code",
      "source": [
        "animal = ('dog','cat','rabbit')\n",
        "animal.index('cat')"
      ],
      "metadata": {
        "id": "InmlsG6PINrk",
        "outputId": "f805cc36-ddc2-4643-e9c2-569b89b71ed6",
        "colab": {
          "base_uri": "https://localhost:8080/"
        }
      },
      "execution_count": 55,
      "outputs": [
        {
          "output_type": "execute_result",
          "data": {
            "text/plain": [
              "1"
            ]
          },
          "metadata": {},
          "execution_count": 55
        }
      ]
    },
    {
      "cell_type": "code",
      "source": [
        "basket = ('apple','orange','banana')\n",
        "print('banana' in basket)"
      ],
      "metadata": {
        "id": "Am-CMfV9IT7h",
        "outputId": "38de5a5b-e7a0-4b0c-ca89-9bace8fff81a",
        "colab": {
          "base_uri": "https://localhost:8080/"
        }
      },
      "execution_count": 56,
      "outputs": [
        {
          "output_type": "stream",
          "name": "stdout",
          "text": [
            "True\n"
          ]
        }
      ]
    },
    {
      "cell_type": "code",
      "source": [
        "set = {1,2,3,4,5}\n",
        "set"
      ],
      "metadata": {
        "id": "buWb6-FkIbk_",
        "outputId": "f4735a2c-fe16-4c18-842d-de3df45b8512",
        "colab": {
          "base_uri": "https://localhost:8080/"
        }
      },
      "execution_count": 57,
      "outputs": [
        {
          "output_type": "execute_result",
          "data": {
            "text/plain": [
              "{1, 2, 3, 4, 5}"
            ]
          },
          "metadata": {},
          "execution_count": 57
        }
      ]
    },
    {
      "cell_type": "code",
      "source": [
        "set1 = {1,2,3,4}\n",
        "set1.update([6])\n",
        "print(set1)"
      ],
      "metadata": {
        "id": "cyLITJrlIhjV",
        "outputId": "d9f6f9ac-3b51-470f-cdb0-e842cf464e92",
        "colab": {
          "base_uri": "https://localhost:8080/"
        }
      },
      "execution_count": 58,
      "outputs": [
        {
          "output_type": "stream",
          "name": "stdout",
          "text": [
            "{1, 2, 3, 4, 6}\n"
          ]
        }
      ]
    },
    {
      "cell_type": "code",
      "source": [],
      "metadata": {
        "id": "CL46NryRIphp"
      },
      "execution_count": null,
      "outputs": []
    }
  ],
  "metadata": {
    "colab": {
      "name": "Welcome To Colab",
      "provenance": []
    },
    "kernelspec": {
      "display_name": "Python 3",
      "name": "python3"
    }
  },
  "nbformat": 4,
  "nbformat_minor": 0
}