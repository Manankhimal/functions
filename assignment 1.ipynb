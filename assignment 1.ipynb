{
  "nbformat": 4,
  "nbformat_minor": 0,
  "metadata": {
    "colab": {
      "provenance": [],
      "toc_visible": true
    },
    "kernelspec": {
      "name": "python3",
      "display_name": "Python 3"
    },
    "language_info": {
      "name": "python"
    }
  },
  "cells": [
    {
      "cell_type": "code",
      "source": [],
      "metadata": {
        "id": "VpAnOXZjNanQ"
      },
      "execution_count": null,
      "outputs": []
    },
    {
      "cell_type": "markdown",
      "source": [
        "### 1. What is Python, and why is it popular?\n",
        "**Python** is a high-level, interpreted programming language known for its simplicity and readability. It supports multiple programming paradigms, including procedural, object-oriented, and functional programming.  \n",
        "**Reasons for popularity:**\n",
        "- Easy to learn and use.\n",
        "- Extensive standard library and third-party modules.\n",
        "- Cross-platform compatibility.\n",
        "- Versatile (used in web development, data analysis, AI, etc.).\n",
        "- Large and active community support.\n",
        "\n",
        "\n",
        "### 2. What is an interpreter in Python?\n",
        "An **interpreter** in Python is a program that directly executes Python code line-by-line instead of compiling it into machine language beforehand. It allows for immediate execution and debugging of code.\n",
        "\n",
        "\n",
        "### 3. What are pre-defined keywords in Python?\n",
        "Pre-defined **keywords** are reserved words in Python that have special meanings and uses. Examples include `if`, `else`, `for`, `True`, `False`, and `def`. These cannot be used as variable names.\n",
        "\n",
        "\n",
        "### 4. Can keywords be used as variable names?\n",
        "No, **keywords cannot be used as variable names** because they are reserved for specific functionalities in Python.\n",
        "\n",
        "\n",
        "### 5. What is mutability in Python?\n",
        "**Mutability** refers to an object's ability to change its state or content after creation.  \n",
        "- **Mutable objects**: Can be modified (e.g., `list`, `dict`).\n",
        "- **Immutable objects**: Cannot be modified (e.g., `tuple`, `str`, `int`).\n",
        "\n",
        "\n",
        "### 6. Why are lists mutable, but tuples are immutable?\n",
        "**Lists** are mutable to allow dynamic data structures that can grow, shrink, or change.  \n",
        "**Tuples** are immutable to ensure safety and efficiency when working with fixed collections of data, especially as keys in dictionaries or when immutability is required.\n",
        "\n",
        "\n",
        "\n",
        "### 7. What is the difference between `==` and `is` operators in Python?\n",
        "- `==` checks for **value equality** (whether two objects have the same value).\n",
        "- `is` checks for **reference equality** (whether two variables refer to the same object in memory).\n",
        "\n",
        "\n",
        "\n",
        "### 8. What are logical operators in Python?\n",
        "Logical operators in Python are used to combine or invert conditions:\n",
        "- `and`: Returns `True` if both conditions are `True`.\n",
        "- `or`: Returns `True` if at least one condition is `True`.\n",
        "- `not`: Returns the inverse of a condition.\n",
        "\n",
        "\n",
        "\n",
        "### 9. What is type casting in Python?\n",
        "**Type casting** is the process of converting one data type to another.  \n",
        "Examples:  \n",
        "- **Explicit casting**: `int(\"123\")` converts a string to an integer.\n",
        "- **Implicit casting**: Automatically done by Python (e.g., `3 + 2.5` results in `5.5`, where `3` is implicitly converted to a float).\n",
        "\n",
        "---\n",
        "\n",
        "### 10. What is the difference between implicit and explicit type casting?\n",
        "- **Implicit casting**: Python automatically converts a value to the appropriate type.  \n",
        "  Example: Adding an `int` and a `float` results in a `float`.\n",
        "- **Explicit casting**: The programmer explicitly converts a value using functions like `int()`, `float()`, or `str()`.\n",
        "\n",
        "---\n",
        "\n",
        "### 11. What is the purpose of conditional statements in Python?\n",
        "Conditional statements are used to execute specific blocks of code based on whether a condition evaluates to `True` or `False`. They enable decision-making in programs.  \n",
        "Examples: `if`, `elif`, `else`.\n",
        "\n",
        "---\n",
        "\n",
        "### 12. How does the `elif` statement work?\n",
        "The `elif` statement allows for multiple conditions to be checked sequentially. If the preceding conditions are `False`, the `elif` block is executed when its condition is `True`.  \n",
        "Example:\n",
        "```python\n",
        "x = 10\n",
        "if x > 20:\n",
        "    print(\"Greater than 20\")\n",
        "elif x == 10:\n",
        "    print(\"Equal to 10\")\n",
        "else:\n",
        "    print(\"Less than 10\")\n",
        "```\n",
        "\n",
        "---\n",
        "\n",
        "### 13. What is the difference between `for` and `while` loops?\n",
        "- **For loop**: Iterates over a sequence (like a list or range) for a specific number of times.  \n",
        "- **While loop**: Repeats as long as a given condition is `True`. It’s used when the number of iterations is unknown beforehand.\n",
        "\n",
        "---\n",
        "\n",
        "### 14. Describe a scenario where a `while` loop is more suitable than a `for` loop.\n",
        "A `while` loop is better suited for situations where the loop continues until a condition is met rather than iterating a fixed number of times.  \n",
        "**Example**: Waiting for user input to meet a specific criterion:\n",
        "```python\n",
        "password = \"\"\n",
        "while password != \"secure123\":\n",
        "    password = input(\"Enter the correct password: \")\n",
        "print(\"Access granted.\")\n",
        "```"
      ],
      "metadata": {
        "id": "f-Pzr0F2OK_X"
      }
    },
    {
      "cell_type": "code",
      "source": [
        "print(\"hello wolrd\")"
      ],
      "metadata": {
        "colab": {
          "base_uri": "https://localhost:8080/"
        },
        "id": "tRD6l83mOiYU",
        "outputId": "6581b80d-3517-4034-897e-7f2368668d37"
      },
      "execution_count": null,
      "outputs": [
        {
          "output_type": "stream",
          "name": "stdout",
          "text": [
            "hello wolrd\n"
          ]
        }
      ]
    },
    {
      "cell_type": "code",
      "source": [
        "name = \"manan\"\n",
        "age = \"21\"\n",
        "print(f\"my name is {name} my age is {age}\")"
      ],
      "metadata": {
        "colab": {
          "base_uri": "https://localhost:8080/"
        },
        "id": "gZL7bSQTOmkq",
        "outputId": "1953544a-c723-4188-cae1-2dfa386c33cf"
      },
      "execution_count": null,
      "outputs": [
        {
          "output_type": "stream",
          "name": "stdout",
          "text": [
            "my name is manan my age is 21\n"
          ]
        }
      ]
    },
    {
      "cell_type": "code",
      "source": [
        "import keyword\n",
        "print(keyword.kwlist)"
      ],
      "metadata": {
        "colab": {
          "base_uri": "https://localhost:8080/"
        },
        "id": "P3nHAu6xO3gK",
        "outputId": "18de8fb1-b036-4f89-e71d-c6eaf661df8a"
      },
      "execution_count": null,
      "outputs": [
        {
          "output_type": "stream",
          "name": "stdout",
          "text": [
            "['False', 'None', 'True', 'and', 'as', 'assert', 'async', 'await', 'break', 'class', 'continue', 'def', 'del', 'elif', 'else', 'except', 'finally', 'for', 'from', 'global', 'if', 'import', 'in', 'is', 'lambda', 'nonlocal', 'not', 'or', 'pass', 'raise', 'return', 'try', 'while', 'with', 'yield']\n"
          ]
        }
      ]
    },
    {
      "cell_type": "code",
      "source": [
        "\n",
        "import keyword\n",
        "\n",
        "word = input(\"Enter a word: \")\n",
        "print(f\"'{word}' is a Python keyword.\") if keyword.iskeyword(word) else print(f\"'{word}' is not a Python keyword.\")"
      ],
      "metadata": {
        "colab": {
          "base_uri": "https://localhost:8080/"
        },
        "id": "Q5wYXWDYPlvC",
        "outputId": "3f2cbf7c-82a1-475d-cc4a-6c17c827acf9"
      },
      "execution_count": null,
      "outputs": [
        {
          "output_type": "stream",
          "name": "stdout",
          "text": [
            "Enter a word: True\n",
            "'True' is a Python keyword.\n"
          ]
        }
      ]
    },
    {
      "cell_type": "code",
      "source": [
        "a = 2\n",
        "b = 3\n",
        "c = 6\n",
        "if a < b and b < c:\n",
        "    print(\"both the conditions are true\")\n",
        "if a < b or b > c:\n",
        "    print(\"atleast one condition is true\")\n",
        "if not a > b:\n",
        "    print(\"condition is false\")\n"
      ],
      "metadata": {
        "colab": {
          "base_uri": "https://localhost:8080/"
        },
        "id": "uhxE0glgQB92",
        "outputId": "d0fe8198-7dd9-4786-d7f4-5345c1108317"
      },
      "execution_count": null,
      "outputs": [
        {
          "output_type": "stream",
          "name": "stdout",
          "text": [
            "both the conditions are true\n",
            "atleast one condition is true\n",
            "condition is false\n"
          ]
        }
      ]
    },
    {
      "cell_type": "code",
      "source": [
        "a =\"2\"\n",
        "b = 3\n",
        "int(a)+b #string to integer"
      ],
      "metadata": {
        "colab": {
          "base_uri": "https://localhost:8080/"
        },
        "id": "JJe2T2LZT42L",
        "outputId": "2b84903f-ba0a-4e0f-c5a9-a63a867be5cd"
      },
      "execution_count": null,
      "outputs": [
        {
          "output_type": "execute_result",
          "data": {
            "text/plain": [
              "5"
            ]
          },
          "metadata": {},
          "execution_count": 19
        }
      ]
    },
    {
      "cell_type": "code",
      "source": [
        "from typing_extensions import Type\n",
        "#string to float\n",
        "a =\"2.3\"\n",
        "b = float(a)\n",
        "type(b)"
      ],
      "metadata": {
        "colab": {
          "base_uri": "https://localhost:8080/"
        },
        "id": "YsA8bl2HUSgl",
        "outputId": "8c419c1c-2ac1-407d-b1ae-e74fe5dd7dc4"
      },
      "execution_count": null,
      "outputs": [
        {
          "output_type": "execute_result",
          "data": {
            "text/plain": [
              "float"
            ]
          },
          "metadata": {},
          "execution_count": 22
        }
      ]
    },
    {
      "cell_type": "code",
      "source": [
        "#string to boolean type\n",
        "bool(\"ajay\")"
      ],
      "metadata": {
        "colab": {
          "base_uri": "https://localhost:8080/"
        },
        "id": "3q_9C80vUriY",
        "outputId": "45440369-be8e-4c26-980b-6cbe7bc397f4"
      },
      "execution_count": null,
      "outputs": [
        {
          "output_type": "execute_result",
          "data": {
            "text/plain": [
              "True"
            ]
          },
          "metadata": {},
          "execution_count": 25
        }
      ]
    },
    {
      "cell_type": "code",
      "source": [
        "\n",
        "number = float(input(\"2: \"))\n",
        "if number > 0:\n",
        "    print(\"The number is positive.\")\n",
        "elif number < 0:\n",
        "    print(\"The number is negative.\")\n",
        "else:\n",
        "    print(\"The number is zero.\")\n"
      ],
      "metadata": {
        "colab": {
          "base_uri": "https://localhost:8080/"
        },
        "id": "d21sOr0jYJoV",
        "outputId": "ef1c4ed2-e899-4645-ed39-dc1b2cd77524"
      },
      "execution_count": null,
      "outputs": [
        {
          "output_type": "stream",
          "name": "stdout",
          "text": [
            "2: 0\n",
            "The number is zero.\n"
          ]
        }
      ]
    },
    {
      "cell_type": "code",
      "source": [
        "# Using a for loop to print numbers from 1 to 10\n",
        "for number in range(1, 11):\n",
        "    print(number)\n"
      ],
      "metadata": {
        "colab": {
          "base_uri": "https://localhost:8080/"
        },
        "id": "JQ7QnRq3ZASU",
        "outputId": "25d9c6f3-d0fe-41e7-b51a-4381a4d00855"
      },
      "execution_count": null,
      "outputs": [
        {
          "output_type": "stream",
          "name": "stdout",
          "text": [
            "1\n",
            "2\n",
            "3\n",
            "4\n",
            "5\n",
            "6\n",
            "7\n",
            "8\n",
            "9\n",
            "10\n"
          ]
        }
      ]
    },
    {
      "cell_type": "code",
      "source": [
        "\n",
        "sum_of_evens = 0\n",
        "\n",
        "for number in range(1, 51):\n",
        "    if number % 2 == 0:\n",
        "        sum_of_evens += number\n",
        "\n",
        "print(\"The sum of all even numbers between 1 and 50 is:\", sum_of_evens)\n"
      ],
      "metadata": {
        "colab": {
          "base_uri": "https://localhost:8080/"
        },
        "id": "762zB6QxaBO6",
        "outputId": "13726509-ed27-4eaa-fb5b-7da6b51358ff"
      },
      "execution_count": null,
      "outputs": [
        {
          "output_type": "stream",
          "name": "stdout",
          "text": [
            "The sum of all even numbers between 1 and 50 is: 650\n"
          ]
        }
      ]
    },
    {
      "cell_type": "code",
      "source": [
        "#Create a list and tuple in Python, and demonstrate how attempting to change an element works differently for each\n",
        "# Create a list and a tuple\n",
        "my_list = [1, 2, 3]\n",
        "my_tuple = (1, 2, 3)\n",
        "print(\"Original List:\", my_list)\n",
        "my_list[0] = 100\n",
        "print(\"Modified List:\", my_list)\n",
        "print(\"\\nOriginal Tuple:\", my_tuple)\n",
        "try:\n",
        "    my_tuple[0] = 100\n",
        "except TypeError as e:\n",
        "    print(\"Error when trying to modify the tuple:\", e)\n"
      ],
      "metadata": {
        "id": "GKgI5tvEbuft",
        "colab": {
          "base_uri": "https://localhost:8080/"
        },
        "outputId": "579326eb-2bbe-45b0-fac1-4f832d1f001c"
      },
      "execution_count": 4,
      "outputs": [
        {
          "output_type": "stream",
          "name": "stdout",
          "text": [
            "Original List: [1, 2, 3]\n",
            "Modified List: [100, 2, 3]\n",
            "\n",
            "Original Tuple: (1, 2, 3)\n",
            "Error when trying to modify the tuple: 'tuple' object does not support item assignment\n"
          ]
        }
      ]
    },
    {
      "cell_type": "code",
      "source": [
        "#Write a function to demonstrate the behavior of mutable and immutable arguments\n",
        "\n",
        "def demonstrate_mutable_and_immutable(mutable_arg, immutable_arg):\n",
        "\n",
        "    mutable_arg.append(100)\n",
        "    immutable_arg += 1\n",
        "    print(\"Inside the function:\")\n",
        "    print(\"Mutable argument (list):\", mutable_arg)\n",
        "    print(\"Immutable argument (integer):\", immutable_arg)\n",
        "\n",
        "mutable_list = [1, 2, 3]\n",
        "immutable_int = 10\n",
        "demonstrate_mutable_and_immutable(mutable_list, immutable_int)\n",
        "print(\"\\nOutside the function:\")\n",
        "print(\"Mutable argument (list):\", mutable_list)\n",
        "print(\"Immutable argument (integer):\", immutable_int)\n"
      ],
      "metadata": {
        "id": "4XmbgjbBb2Yg",
        "colab": {
          "base_uri": "https://localhost:8080/"
        },
        "outputId": "15f01962-70ac-4968-e410-c5ccc6c93ae6"
      },
      "execution_count": 3,
      "outputs": [
        {
          "output_type": "stream",
          "name": "stdout",
          "text": [
            "Inside the function:\n",
            "Mutable argument (list): [1, 2, 3, 100]\n",
            "Immutable argument (integer): 11\n",
            "\n",
            "Outside the function:\n",
            "Mutable argument (list): [1, 2, 3, 100]\n",
            "Immutable argument (integer): 10\n"
          ]
        }
      ]
    },
    {
      "cell_type": "code",
      "source": [
        "#Write code to demonstrate type casting with list elements\n",
        "my_list = [\"10\", \"20.5\", \"True\", \"0\", \"42\"]\n",
        "int_value = int(my_list[0])\n",
        "float_value = float(my_list[1])\n",
        "bool_value_true = bool(my_list[2])\n",
        "bool_value_false = bool(my_list[3])\n",
        "another_int = int(my_list[4])\n",
        "\n",
        "print(\"Original List:\", my_list)\n",
        "print(\"Integer Value:\", int_value)\n",
        "print(\"Float Value:\", float_value)\n",
        "print(\"Boolean Value (True):\", bool_value_true)\n",
        "print(\"Boolean Value (False):\", bool_value_false)\n",
        "print(\"Another Integer Value:\", another_int)\n"
      ],
      "metadata": {
        "id": "WzjZ7T2Hb-Ak",
        "colab": {
          "base_uri": "https://localhost:8080/"
        },
        "outputId": "53bdb9e1-b1db-4c1c-94d4-e773ef920106"
      },
      "execution_count": 2,
      "outputs": [
        {
          "output_type": "stream",
          "name": "stdout",
          "text": [
            "Original List: ['10', '20.5', 'True', '0', '42']\n",
            "Integer Value: 10\n",
            "Float Value: 20.5\n",
            "Boolean Value (True): True\n",
            "Boolean Value (False): True\n",
            "Another Integer Value: 42\n"
          ]
        }
      ]
    },
    {
      "cell_type": "code",
      "source": [
        "# Write a program to reverse a string using a while loop\n",
        "input_string = input(\"Enter a string to reverse: \")\n",
        "reversed_string = \"\"\n",
        "index = len(input_string) - 1\n",
        "while index >= 0:\n",
        "    reversed_string += input_string[index]\n",
        "    index -= 1\n",
        "print(\"Reversed string:\", reversed_string)\n"
      ],
      "metadata": {
        "id": "-NGrRhGJ2AsD",
        "colab": {
          "base_uri": "https://localhost:8080/"
        },
        "outputId": "9de44450-c196-4c72-ee42-be2026143f0d"
      },
      "execution_count": 1,
      "outputs": [
        {
          "output_type": "stream",
          "name": "stdout",
          "text": [
            "Enter a string to reverse: pwskill\n",
            "Reversed string: llikswp\n"
          ]
        }
      ]
    },
    {
      "cell_type": "code",
      "source": [
        "#Write a Python program to calculate the factorial of a number provided by the user using a while loop.\n",
        "num = int(input(\"5: \"))\n",
        "factorial = 1\n",
        "while num > 0:\n",
        "    factorial *= num\n",
        "    num -= 1\n",
        "print(\"Factorial:\", factorial)"
      ],
      "metadata": {
        "colab": {
          "base_uri": "https://localhost:8080/"
        },
        "id": "5-1X85aA2IFz",
        "outputId": "03b54c8a-f7c2-4542-a73b-47fc2a3c450f"
      },
      "execution_count": null,
      "outputs": [
        {
          "output_type": "stream",
          "name": "stdout",
          "text": [
            "5: 4\n",
            "Factorial: 24\n"
          ]
        }
      ]
    },
    {
      "cell_type": "code",
      "source": [],
      "metadata": {
        "id": "Quy6ssO64Dmi"
      },
      "execution_count": null,
      "outputs": []
    }
  ]
}